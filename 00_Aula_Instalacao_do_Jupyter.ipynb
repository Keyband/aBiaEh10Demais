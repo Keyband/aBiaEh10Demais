{
 "cells": [
  {
   "cell_type": "markdown",
   "metadata": {},
   "source": [
    "<img src=\"../Figs/Cab_IF_Red_01.png\" alt=\"drawing\" width=\"80%\"/>\n",
    "\n",
    "\n",
    "<!--\n",
    "\n",
    "<img href=\"Figs/Cab_IF_Red_01.png\" style=\"width: 80%;\" /> doesn't work\n",
    "\n",
    "![Logotipo do IF](../Figs/Cab_IF_Red_01.png){ width=50% }\n",
    "\n",
    "<h1> <span style=\"color:blue\">Curso de Física Computacional </span> </h1> \n",
    "-->\n",
    "\n",
    "<p style=\"margin-bottom:1cm;\"> </p>\n",
    "\n",
    "\n",
    "<center> <font size=\"6\" color=\"blue\">Curso de Física Computacional</font> </center>\n",
    "\n",
    "\n",
    "<font size=\"4\" color=\"blue\">**Prof. :** Salviano A. Leão -- Instituto de Física - UFG-GO</font>\n",
    "\n",
    "\n",
    "Esse material faz parte do curso de Física Computacional.\n"
   ]
  },
  {
   "cell_type": "markdown",
   "metadata": {
    "toc": true
   },
   "source": [
    "<h1>Table of Contents<span class=\"tocSkip\"></span></h1>\n",
    "<div class=\"toc\"><ul class=\"toc-item\"><li><ul class=\"toc-item\"><li><span><a href=\"#Porque-Python\" data-toc-modified-id=\"Porque-Python-0.1\">Porque Python</a></span><ul class=\"toc-item\"><li><span><a href=\"#Documentação\" data-toc-modified-id=\"Documentação-0.1.1\">Documentação</a></span></li></ul></li><li><span><a href=\"#O-projeto-Jupyter/IPython\" data-toc-modified-id=\"O-projeto-Jupyter/IPython-0.2\">O projeto Jupyter/IPython</a></span></li><li><span><a href=\"#O-que-você-precisa-instalar\" data-toc-modified-id=\"O-que-você-precisa-instalar-0.3\">O que você precisa instalar</a></span></li></ul></li><li><span><a href=\"#Instalando-o-Jupyter-Notebook\" data-toc-modified-id=\"Instalando-o-Jupyter-Notebook-1\">Instalando o Jupyter Notebook</a></span><ul class=\"toc-item\"><li><span><a href=\"#Pré-requisito:-Python-\" data-toc-modified-id=\"Pré-requisito:-Python--1.1\">Pré-requisito: Python <a name=\"Prerequisito\"></a></a></span></li><li><span><a href=\"#PyPi\" data-toc-modified-id=\"PyPi-1.2\">PyPi</a></span><ul class=\"toc-item\"><li><span><a href=\"#Exemplos-de--uso-do-pip\" data-toc-modified-id=\"Exemplos-de--uso-do-pip-1.2.1\">Exemplos de  uso do <code>pip</code></a></span></li></ul></li><li><span><a href=\"#Instalação-via-pip\" data-toc-modified-id=\"Instalação-via-pip-1.3\">Instalação via pip</a></span><ul class=\"toc-item\"><li><span><a href=\"#Via-o-Anaconda-e-conda-\" data-toc-modified-id=\"Via-o-Anaconda-e-conda--1.3.1\">Via o Anaconda e conda <a name=\"Anaconda\"></a></a></span></li><li><span><a href=\"#Usuários-Linux:-Instalar-o-Jupyter-com-o-pip-\" data-toc-modified-id=\"Usuários-Linux:-Instalar-o-Jupyter-com-o-pip--1.3.2\">Usuários Linux: Instalar o Jupyter com o pip <a name=\"pip\"></a></a></span><ul class=\"toc-item\"><li><span><a href=\"#Importante\" data-toc-modified-id=\"Importante-1.3.2.1\">Importante</a></span></li></ul></li></ul></li><li><span><a href=\"#Um-passeio-sobre-alguns-pacotes-essenciais-do-Python-\" data-toc-modified-id=\"Um-passeio-sobre-alguns-pacotes-essenciais-do-Python--1.4\">Um passeio sobre alguns pacotes essenciais do Python <a name=\"CP1-Bibliotecas\"></a></a></span><ul class=\"toc-item\"><li><span><a href=\"#IPython-\" data-toc-modified-id=\"IPython--1.4.1\">IPython <a name=\"CP1-Lib-ipython\"></a></a></span></li></ul></li><li><span><a href=\"#Bibliotecas-essenciais-\" data-toc-modified-id=\"Bibliotecas-essenciais--1.5\">Bibliotecas essenciais <a name=\"CP1-Bibliotecas\"></a></a></span><ul class=\"toc-item\"><li><ul class=\"toc-item\"><li><span><a href=\"#Bibliotecas-científicas-que-todos-devem-instalar,-via-distribuição-Linux:\" data-toc-modified-id=\"Bibliotecas-científicas-que-todos-devem-instalar,-via-distribuição-Linux:-1.5.0.1\">Bibliotecas científicas que todos devem instalar, via distribuição Linux:</a></span></li><li><span><a href=\"#Bibliotecas-científicas-que-todos-devem-instalar,-via-o-Índice-de-Pacotes-do-Python:\" data-toc-modified-id=\"Bibliotecas-científicas-que-todos-devem-instalar,-via-o-Índice-de-Pacotes-do-Python:-1.5.0.2\">Bibliotecas científicas que todos devem instalar, via o Índice de Pacotes do Python:</a></span></li></ul></li><li><span><a href=\"#Descrição-das-bibliotecas-mais-importantes\" data-toc-modified-id=\"Descrição-das-bibliotecas-mais-importantes-1.5.1\">Descrição das bibliotecas mais importantes</a></span><ul class=\"toc-item\"><li><span><a href=\"#NumPy-\" data-toc-modified-id=\"NumPy--1.5.1.1\">NumPy <a name=\"CP1-Lib-NumPy\"></a></a></span></li><li><span><a href=\"#SciPy-\" data-toc-modified-id=\"SciPy--1.5.1.2\">SciPy <a name=\"CP1-Lib-SciPy\"></a></a></span></li><li><span><a href=\"#Matplotlib-\" data-toc-modified-id=\"Matplotlib--1.5.1.3\">Matplotlib <a name=\"CP1-Lib-Matplotlib\"></a></a></span></li><li><span><a href=\"#SymPy\" data-toc-modified-id=\"SymPy-1.5.1.4\">SymPy</a></span></li><li><span><a href=\"#Pandas-\" data-toc-modified-id=\"Pandas--1.5.1.5\">Pandas <a name=\"CP1-Lib-Pandas\"></a></a></span></li><li><span><a href=\"#Beautiful-Soup-\" data-toc-modified-id=\"Beautiful-Soup--1.5.1.6\">Beautiful Soup <a name=\"CP1-Lib-BeautifulSoup\"></a></a></span></li><li><span><a href=\"#Scikit-learn-\" data-toc-modified-id=\"Scikit-learn--1.5.1.7\">Scikit-learn <a name=\"CP1-Lib-Scikit-learn\"></a></a></span></li><li><span><a href=\"#Statsmodels-\" data-toc-modified-id=\"Statsmodels--1.5.1.8\">Statsmodels <a name=\"CP1-Lib-Statsmodel\"></a></a></span></li><li><span><a href=\"#Seaborn\" data-toc-modified-id=\"Seaborn-1.5.1.9\">Seaborn</a></span></li><li><span><a href=\"#NetworkX-\" data-toc-modified-id=\"NetworkX--1.5.1.10\">NetworkX <a name=\"CP1-Lib-NetworkX\"></a></a></span></li></ul></li><li><span><a href=\"#NLTK-\" data-toc-modified-id=\"NLTK--1.5.2\">NLTK <a name=\"CP1-Lib-NLTK\"></a></a></span></li></ul></li><li><span><a href=\"#Ajustando-a-configuração-do-Linux\" data-toc-modified-id=\"Ajustando-a-configuração-do-Linux-1.6\">Ajustando a configuração do Linux</a></span></li><li><span><a href=\"#Verificando-a-instalação\" data-toc-modified-id=\"Verificando-a-instalação-1.7\">Verificando a instalação</a></span></li></ul></li><li><span><a href=\"#Instalando-o-kernel-do-Fortran-\" data-toc-modified-id=\"Instalando-o-kernel-do-Fortran--2\">Instalando o kernel do Fortran <a name=\"Kernel-Fortran\"></a></a></span><ul class=\"toc-item\"><li><ul class=\"toc-item\"><li><span><a href=\"#Instalação-Manual\" data-toc-modified-id=\"Instalação-Manual-2.0.1\">Instalação Manual</a></span></li><li><span><a href=\"#Instalação-passo-a-passo\" data-toc-modified-id=\"Instalação-passo-a-passo-2.0.2\">Instalação passo a passo</a></span></li></ul></li></ul></li><li><span><a href=\"#Instalando-o-kernel-do-C\" data-toc-modified-id=\"Instalando-o-kernel-do-C-3\">Instalando o kernel do C</a></span><ul class=\"toc-item\"><li><ul class=\"toc-item\"><li><span><a href=\"#Instalação-Manual\" data-toc-modified-id=\"Instalação-Manual-3.0.1\">Instalação Manual</a></span></li><li><span><a href=\"#Instalação-passo-a-passo\" data-toc-modified-id=\"Instalação-passo-a-passo-3.0.2\">Instalação passo a passo</a></span></li></ul></li></ul></li><li><span><a href=\"#Instalando-os-kernels-do-Gnuplot-e-do-Scilab\" data-toc-modified-id=\"Instalando-os-kernels-do-Gnuplot-e-do-Scilab-4\">Instalando os kernels do Gnuplot e do Scilab</a></span><ul class=\"toc-item\"><li><ul class=\"toc-item\"><li><span><a href=\"#Instalação-Manual\" data-toc-modified-id=\"Instalação-Manual-4.0.1\">Instalação Manual</a></span></li><li><span><a href=\"#Instalação-passo-a-passo\" data-toc-modified-id=\"Instalação-passo-a-passo-4.0.2\">Instalação passo a passo</a></span><ul class=\"toc-item\"><li><span><a href=\"#Para-instalar-execute-as-células--abaixo\" data-toc-modified-id=\"Para-instalar-execute-as-células--abaixo-4.0.2.1\">Para instalar execute as células  abaixo</a></span></li></ul></li></ul></li><li><span><a href=\"#Kernel-do-Gnuplot\" data-toc-modified-id=\"Kernel-do-Gnuplot-4.1\">Kernel do Gnuplot</a></span></li></ul></li><li><span><a href=\"#Instalando-o-kernel-do-C-++-para-o-notebook-Jupyter:-Cling-\" data-toc-modified-id=\"Instalando-o-kernel-do-C-++-para-o-notebook-Jupyter:-Cling--5\">Instalando o kernel do C ++ para o notebook Jupyter: Cling <a name=\"Kernel-Cpp\"></a></a></span><ul class=\"toc-item\"><li><span><a href=\"#Exportando-e-Convertendo-Notebooks\" data-toc-modified-id=\"Exportando-e-Convertendo-Notebooks-5.1\">Exportando e Convertendo Notebooks</a></span><ul class=\"toc-item\"><li><span><a href=\"#Coverter-código-python-em-notebook\" data-toc-modified-id=\"Coverter-código-python-em-notebook-5.1.1\">Coverter código python em notebook</a></span></li></ul></li><li><span><a href=\"#IPython-paralelo\" data-toc-modified-id=\"IPython-paralelo-5.2\">IPython paralelo</a></span><ul class=\"toc-item\"><li><span><a href=\"#Computação-Paralela-e-Iterativa-Com-o-IPython\" data-toc-modified-id=\"Computação-Paralela-e-Iterativa-Com-o-IPython-5.2.1\">Computação Paralela e Iterativa Com o IPython</a></span></li><li><span><a href=\"#Instalação\" data-toc-modified-id=\"Instalação-5.2.2\">Instalação</a></span></li><li><span><a href=\"#Instalando-o-JupyterHub\" data-toc-modified-id=\"Instalando-o-JupyterHub-5.2.3\">Instalando o JupyterHub</a></span></li></ul></li><li><span><a href=\"#Rodando\" data-toc-modified-id=\"Rodando-5.3\">Rodando</a></span></li><li><span><a href=\"#Documentação\" data-toc-modified-id=\"Documentação-5.4\">Documentação</a></span></li></ul></li></ul></div>"
   ]
  },
  {
   "cell_type": "markdown",
   "metadata": {
    "slideshow": {
     "slide_type": "slide"
    }
   },
   "source": [
    "## Porque Python\n",
    "\n",
    "Python é a linguagem de programação de escolha para muitos cientistas em grande medida porque oferece um grande  poder para analisar e modelar dados científicos com relativamente pouca sobrecarga em termos de aprendizagem, instalação ou tempo de desenvolvimento. É uma linguagem que você pode aprender o básico em um fim de semana, e usa-lá pelo resto de sua vida.\n",
    "\n",
    "<!--\n",
    "$$\n",
    "\\int f(x) dx = G(x) +c\n",
    "$$\n",
    "-->\n",
    "\n",
    "### Documentação \n",
    "\n",
    "O Python é uma linguagem muito bem documentada e há muitas opções em português: \n",
    "\n",
    "- [Python](https://www.python.org/) página oficial. Aqui ele disponibiliza um shell iterativo no qual voê pode rodar seu códgio sem precisar instalar ele em sua máquina.\n",
    "- [Python Brasil](http://wiki.python.org.br/PythonBrasil)\n",
    "- [O livro \"Python para desenvolvedores\"](https://ark4n.wordpress.com/)\n",
    "- [Como Pensar Como um Cientista da Computação](https://panda.ime.usp.br/pensepy/static/pensepy/index.html)\n",
    "- O livro \"Think Python How to Think Like a Computer Scientist\", pode ser baixado aqui [versão em PDF](http://www.greenteapress.com/thinkpython/thinkpython.pdf )\n",
    "- O livro [A byte of Python](https://www.gitbook.com/book/swaroopch/byte-of-python/details) foi traduzido pelo [Rodrigo Amaral](https://ramaral.wordpress.com/2012/08/05/e-book-do-livro-a-byte-of-python-em-portugues/).\n",
    "- O [Python Tutorial](http://docs.python.org/3/tutorial/) é um ótimo lugar para começar a ter uma idéia da linguagem.\n",
    "- [Aprendendo a Programar](http://www.alan-g.me.uk/tutor/port/). Note entretanto que ela usa a versão 2.7 do Python\n",
    "- [The Runestone Interactive tools](http://runestoneinteractive.org/library.html)\n",
    "\n",
    "\n",
    "## O projeto Jupyter/IPython\n",
    "\n",
    "Com o [Projeto IPython](http://ipython.org) montou-se uma interface de notebook que acho incrivelmente valiosa, por permite em um único local escrever um documento, analisar a os dados, fazer os gráfios, etc. Entretanto o projeto inical cresceu muito e ele então foi dividido em duas partes o [Projeto IPython](http://ipython.org) o qual ficou basicamente com o kernel do Python e o [Jupyter](https://jupyter.org/), o qual inclui o kernel das outras quase 40 linguagens de programação conforme [Jupyter kernels](https://github.com/jupyter/jupyter/wiki/Jupyter-kernels).\n",
    "\n",
    "\n",
    "De acordo com o [site do projeto](http://ipython.org/), o IPython/Jupyter é uma aplicação de código aberto (BSD license) que permite criar e compartilhar documentos que contenham um código iterativo, equações e formulas matemáticas renderizadas pelo LaTeX, visualizações de imagens (via scikit) e gráficos (matplotlib) e textos explicativos. Atualmente o Jupyter notebook é um dos principais ambientes para a análise de dados, onde você pode usar não apenas Python, mas várias outras linguagens como você pode ver aqui.\n",
    "\n",
    "O [IPython](http://ipython.org) fornece uma arquitetura rica para uma computação iterativa com:\n",
    "- Um poderoso shell iterativo.\n",
    "- Um kernel para o [Jupyter](https://jupyter.org/).\n",
    "- Um suporte para visualização de dados iterativa e o use de [GUI toolkits](http://ipython.org/ipython-doc/stable/interactive/reference.html#gui-event-loop-support).\n",
    "- etc.\n",
    "\n",
    "O [IPython](http://ipython.org) é um projeto crescente, com componentes cada vez mais agnósticas de linguagem. O IPython 3.x foi o último lançamento monolítico do IPython, contendo o servidor notebook, qtconsole, etc. A partir do IPython 4.0, as partes agnósticas linguísticas do projeto: o formato do notebook, o protocolo da mensagem, o qtconsole, a aplicação web do notebook, etc. mudaram-se para novos projetos sob o nome de [Jupyter](https://jupyter.org/). O IPython ficou focado somente no Python interativo, parte do qual está fornecendo um kernel Python para o Jupyter.\n",
    "\n",
    "\n",
    "Atualmente no [GitHub](https://github.com/) em uma pesquisa rápida pode-se encontrar centenas de notebooks, pois há uma comunidade de usuários muito grade dipostos a compartilhar seu trabalho. Um grande número de pessoas têm disponibilizado muitos Jupyter/IPython Notebooks os quais serviram de apoio na montagem deste. Usei um grande número de material para a construção deste, particularmente destaco os seguintes:\n",
    "\n",
    "* Hans Fangohr [Python for Computational Science and Engineering](http://www.southampton.ac.uk/~fangohr/index.html) Uma execelente página e contém diversos elementos de programção em python e algumas dicas de bibliotecas para cáculo e visualização.\n",
    "* Rob Johansson's [excellent notebooks](http://jrjohansson.github.io/), incluindo [Scientific Computing with Python](https://github.com/jrjohansson/scientific-python-lectures) e [Computational Quantum Physics with QuTiP](https://github.com/jrjohansson/qutip-lectures) lectures;\n",
    "* [XKCD style graphs in matplotlib](http://nbviewer.ipython.org/url/jakevdp.github.com/downloads/notebooks/XKCD_plots.ipynb);\n",
    "* [A collection of Notebooks for using IPython effectively](https://github.com/ipython/ipython/tree/master/examples/notebooks#a-collection-of-notebooks-for-using-ipython-effectively)\n",
    "* [A gallery of interesting IPython Notebooks](https://github.com/ipython/ipython/wiki/A-gallery-of-interesting-IPython-Notebooks)\n",
    "\n",
    "\n",
    "## O que você precisa instalar\n",
    "\n",
    "Existem atualmente duas versões do Python que estão convivendo entre-si: a sintaxe mais antiga Python 2 e a sintaxe mais recente Python 3. Essa esquizofrenia é em grande parte intencional: quando ficou claro que algumas mudanças não compatíveis com a linguagem eram necessárias, a Python dev-team decidiu passar por uma transição de cinco anos (ou assim), durante o qual os novos recursos de linguagem seria introduzida e a versão 2 da linguagem ainda seria ativamente mantida, para fazer essa transição tão fácil quanto possível. \n",
    "\n",
    "Com isso em mente, essas notas assumem que você tem uma distribuição Python que inclui:\n",
    "\n",
    "* [Python](http://www.python.org) versão $\\ge$ 3.6;\n",
    "* [Numpy](http://www.numpy.org), o núcleo de extensões numéricas para álgebra linear e arrays multidimensionais;\n",
    "* [Scipy](http://www.scipy.org), bibliotecas adicionais para programação científica;\n",
    "* [Matplotlib](http://matplotlib.sf.net), excelente traçado e bibliotecas de gráficos;\n",
    "* [Pandas](http://pandas.pydata.org/), é uma biblioteca de código aberto (BSD-licensed), fácil de usar na análise  e estruturas de dados, para a lingugem python.\n",
    "  - [StatsModels](http://www.statsmodels.org/stable/index.html) é um módulo Python que fornece classes e funções para estimativas de muitos modelos estatísticos diferentes, assim como testes estatíscticos e exploração estatística de dados.\n",
    "  - [scikit-learn](http://scikit-learn.org/stable/) é uma ferramente simples e eficiente para mineração e análise de dados em Python. \n",
    "* [Jupyter/IPython](http://ipython.org), com as bibliotecas adicionais necessárias para a interface do notebook. O projeto do IPythone evolui e agor é chamado de [Jupyter](http://jupyter.org)\n",
    "\n",
    "\n",
    "# Instalando o Jupyter Notebook\n",
    "\n",
    "A seguir será explicado como instalar o Jupyter Notebook e o kernel do IPython em uma máquina Linux baseada no [Debian](http://www.debian.org/), como [Debian](http://www.debian.org/), [Ubuntu](https://www.ubuntu.com/), [LinuxMint](https://linuxmint.com/), etc.\n",
    "\n",
    "\n",
    "## Pré-requisito: Python <a name=\"Prerequisito\"></a>\n",
    "\n",
    "O IPython/Jupyter executa códigos de muitas linguagens de programação, entretanto, o Python é um requisito necessário (Python 3.6 ou superior, ou Python 2.7) para instalar o Jupyter Notebook. A partir da versões 18.04  o Ubuntu e seus derivados passaram a incluir os pacotes debian do jupiter. A seguir apresenta-se uma relação desses pacotes\n",
    "\n",
    "| Nome do pacote                         | Pequena descrição do pacote                           |\n",
    "| :------------------------------------- | :---------------------------------------------------- |\n",
    "| ipython3                               | Enhanced interactive Python 3 shell                   |         \n",
    "| ipython3-qtconsole                     | transitional dummy package for python3-qtconsole      |\n",
    "| python3-ipython                        | Enhanced interactive Python shell (Python 3 version)  |         \n",
    "| python3-ipython-genutils               | IPython vestigial utilities for Python 3              |\n",
    "| python3-ipykernel                      | IPython kernel for Jupyter (Python 3)                 |\n",
    "| jupyter                                | Interactive computing environment (metapac            |\n",
    "| jupyter-client                         | Jupyter protocol client APIs (tools)                  |\n",
    "| jupyter-console                        | Jupyter terminal client (script)                      |\n",
    "| jupyter-core                           | Core common functionality of Jupyter proje            |\n",
    "| jupyter-nbconvert                      | Jupyter notebook conversion (scripts)                 |\n",
    "| jupyter-nbextension-jupyter-js-widgets | Interactive widgets - Jupyter notebook extension      |\n",
    "| jupyter-nbformat                       | Jupyter notebook format (tools)                       |\n",
    "| jupyter-notebook                       | Jupyter interactive notebook                          |\n",
    "| jupyter-qtconsole                      | Jupyter - Qt console (binaries)                       |\n",
    "| jupyter-sphinx-theme-common            | Jupyter Sphinx Theme -- common files                  |\n",
    "| jupyter-sphinx-theme-doc               | Jupyter Sphinx Theme -- documentation                 |\n",
    "| python3-jupyter-client                 | Jupyter protocol client APIs (Python 3)               |\n",
    "| python3-jupyter-console                | Jupyter terminal client (Python 3)                    |\n",
    "| python3-jupyter-core                   | Core common functionality of Jupyter proje            |\n",
    "| python3-jupyter-sphinx-theme           | Jupyter Sphinx Theme -- Python 3                      |\n",
    "| python3-pandocfilters                  | python3 bindings for Pandoc's filters                 |\n",
    "| pandoc                                 | general markup converter                              |\n",
    "| pandoc-citeproc                        | Pandoc support for Citation Style Language - tools    |\n",
    "| pandoc-citeproc-preamble               | insert a preamble before pandoc-citeproc's bibliography |\n",
    "| pandoc-data                            | general markup converter - data files                 |\n",
    "| python3-matplotlib                     | Python based plotting system in a style similar to Matlab |\n",
    "| python3-numpy                          | Fast array facility to the Python 3 language              |\n",
    "| python3-scipy                          | Scientific tools for Python 3                             |\n",
    "| python3-sympy                          | Computer Algebra System (CAS) in Python (Python3)         |\n",
    "| python3-pandas                         | data structures for \"relational\" or \"labeled\" data in  Python 3 |\n",
    "| python3-seaborn                        | statistical visualization library for Python3             |\n",
    "| python3-pil                            | Python Imaging Library (Python3)                          |\n",
    "| python3-numexpr                        | Fast numerical array expression evaluator for Python 3 and NumPy |\n",
    "| python3-sklearn                        | Python modules for machine learning and data mining       |\n",
    "| python3-sklearn-library                | low-level implementations and bindings for scikit-learn   |\n",
    "| python3-sklearn-pandas                 | Pandas integration with sklearn (Python 3)                |\n",
    "| python3-statsmodels                    | Python3 module for the estimation of statistical models   |\n",
    "| 2to3                                   | 2to3 binary using python3                                 |\n",
    "\n",
    "\n",
    "Nas distribuições GNU/Linux baseadas no Debian, assim como o Ubuntu e familia, o Linux Mint, etc, a instalação dos seguintes pacotes é essencial para o desenvolvimento do curso:\n",
    "\n",
    "```bash\n",
    "sudo apt update\n",
    "sudo apt install -y python3 python3-doc python3-all python3-pip python3-setuptools python3-markdown \n",
    "sudo apt install -y ipython3 python3-ipykernel \n",
    "sudo apt install -y jupyter jupyter-core jupyter-client jupyter-nbconvert jupyter-nbformat jupyter-notebook \n",
    "sudo apt install -y python3-jupyter-client python3-jupyter-core jupyter-nbextension-jupyter-js-widgets\n",
    "sudo apt install -y python3-virtualenv \n",
    "sudo apt install -y pandoc pandoc-data python3-pandocfilters python3-sphinx\n",
    "```\n",
    "\n",
    "Eu gosto de instalar a documentação, exemplos e os pacotes para debugs:\n",
    "\n",
    "```bash\n",
    "sudo apt install -y python3-doc python3-examples python3-all-dbg\n",
    "```\n",
    "\n",
    "Aqui vai um rápida descrição das bibliotecas acima:\n",
    "- **python3-setuptools** é pacote que permite emapcotar/instalar um aplicativo/biblioiteca python\n",
    "- **python3-pip** é um que gerencia instalação/remoção de aplicativos/bibliotecas python, do Índice de Pacotes Pyhton.\n",
    "- **python3-markdown** é a liguagem usada nos IPython/Jupyter notebooks\n",
    "- **python3-virtualenv** Criador de um ambiente virtual Python, isolado\n",
    "- **python3-pandocfilters** é uma ligação python direta com o conversor de linguagem de marcação o *pandoc*\n",
    "- **python3-sphinx** é um gerador de documentação para os projetos python, usando textos restruturados com liguagens de marcação.\n",
    "\n",
    "\n",
    "**OBS.:** O IPython/Jupyter podem exportar os notebooks no formato pdf, gerando um artigo elegante, entretanto para tal ele usa o LaTeX, logo para quem deseja usar dessa funcionalidade recomenda-se que instale o texlive no Linux, no sistema operacional Windows recomenda-se o [MikTeX](https://miktex.org/) ou o próprio [TeX Live](https://www.tug.org/texlive/). Além disso será necessário instalar o pandoc.\n",
    "\n",
    "\n",
    "\n",
    "## PyPi\n",
    "\n",
    "As duas características mais relevantes do Python são a sua capacidade de integração com outras linguagens e seu sistema de pacote maduro que é bem incorporado pelo PyPI ([O Índice do Pacote Python](https://pypi.python.org/pypi)), um repositório comum Para a maioria dos pacotes do Python. O pacote *python3-pip* é que nos permite termos acesso a esse repositório. Pois nem todos os pacotes Python possuem uma versão no repositório da sua distribuição Linux. \n",
    "\n",
    "\n",
    "Digitando somente `pip` no terminal, \n",
    "```bash\n",
    "> pip3 \n",
    "Usage:   \n",
    "  pip <command> [options]\n",
    "\n",
    "Commands:\n",
    "  install                     Install packages.\n",
    "  download                    Download packages.\n",
    "  uninstall                   Uninstall packages.\n",
    "  freeze                      Output installed packages in requirements format.\n",
    "  list                        List installed packages.\n",
    "  show                        Show information about installed packages.\n",
    "  check                       Verify installed packages have compatible dependencies.\n",
    "  search                      Search PyPI for packages.\n",
    "  wheel                       Build wheels from your requirements.\n",
    "  hash                        Compute hashes of package archives.\n",
    "  completion                  A helper command used for command completion.\n",
    "  help                        Show help for commands.\n",
    "\n",
    "General Options:\n",
    "  -h, --help                  Show help.\n",
    "  --isolated                  Run pip in an isolated mode, ignoring\n",
    "                              environment variables and user configuration.\n",
    "  -v, --verbose               Give more output. Option is additive, and can be\n",
    "                              used up to 3 times.\n",
    "  -V, --version               Show version and exit.\n",
    "  -q, --quiet                 Give less output. Option is additive, and can be\n",
    "                              used up to 3 times (corresponding to WARNING,\n",
    "                              ERROR, and CRITICAL logging levels).\n",
    "  --log <path>                Path to a verbose appending log.\n",
    "  --proxy <proxy>             Specify a proxy in the form\n",
    "                              [user:passwd@]proxy.server:port.\n",
    "  --retries <retries>         Maximum number of retries each connection should\n",
    "                              attempt (default 5 times).\n",
    "  --timeout <sec>             Set the socket timeout (default 15 seconds).\n",
    "  --exists-action <action>    Default action when a path already exists:\n",
    "                              (s)witch, (i)gnore, (w)ipe, (b)ackup, (a)bort.\n",
    "  --trusted-host <hostname>   Mark this host as trusted, even though it does\n",
    "                              not have valid or any HTTPS.\n",
    "  --cert <path>               Path to alternate CA bundle.\n",
    "  --client-cert <path>        Path to SSL client certificate, a single file\n",
    "                              containing the private key and the certificate\n",
    "                              in PEM format.\n",
    "  --cache-dir <dir>           Store the cache data in <dir>.\n",
    "  --no-cache-dir              Disable the cache.\n",
    "  --disable-pip-version-check\n",
    "                              Don't periodically check PyPI to determine\n",
    "                              whether a new version of pip is available for\n",
    "                              download. Implied with --no-index.\n",
    "```\n",
    "\n",
    "Após instalar o `pip` via um pacote Debian, é necessário fazer uma atualização usando para isso o próprio repositório do  `pip`, da seguinte forma:\n",
    "\n",
    "```bash\n",
    "> sudo -H pip3 install --upgrade pip3\n",
    "```\n",
    "<!--\n",
    "Eventualmente em alguns casos podem ocorrer problemas, por exemplo se o comando \n",
    "\n",
    "\n",
    "```bash\n",
    "> pip3 search matplotlib\n",
    "```\n",
    "\n",
    "apresentar um erro, e não uma listagem com os diveros pacontes com a biblioteca da `matplotlib`, isso significa que há um bug no seu `pip`, e se a mensagem de erro tiver algo como:\n",
    "\n",
    "\n",
    "```bash\n",
    "...\n",
    "  File \"/usr/local/lib/python3.5/dist-packages/pip/_vendor/pkg_resources/__init__.py\", line 2121, in _rebuild_mod_path\n",
    "    orig_path.sort(key=position_in_sys_path)\n",
    "AttributeError: '_NamespacePath' object has no attribute 'sort'\n",
    "...\n",
    "```\n",
    "\n",
    "Para corrigir faça o seguinte (conforme https://github.com/pypa/pip/issues/4216):\n",
    "no arquivo `/path/to/usr/local/python3.5/dist-packages/`, para o arquivo  `pip/_vendor/pkg_resources/__init__.py`, na linha 2121, como root altere ela de:\n",
    "\n",
    "```python\n",
    "orig_path.sort(key=position_in_sys_path)\n",
    "```\n",
    "para\n",
    "\n",
    "```python\n",
    "try:\n",
    "    orig_path.sort(key=position_in_sys_path)\n",
    "except AttributeError:\n",
    "    print(\"BUG: Is it bad if orig_path is not sorted correctly?\")\n",
    "```\n",
    "\n",
    "Cuidado com a identação. Isso corrigi o problema.\n",
    "-->\n",
    "\n",
    "\n",
    "### Exemplos de  uso do `pip`\n",
    "\n",
    "\n",
    "Considere por exemplo que se deseja saber se há algum pacote cujo o nome contenha o texto `qutitp`,  para verificar isso faça uma pesquisa da seguinte forma:\n",
    "\n",
    "```bash\n",
    "> pip3 search qutip\n",
    "qutip (4.2.0)  - QuTiP: The Quantum Toolbox in Python\n",
    "  INSTALLED: 4.2.0 (latest)\n",
    "```\n",
    "Esse como pode-se ver já está instalado, mas o pacote `statsmodel`\n",
    "\n",
    "```bash\n",
    "> pip3 search statsmodel\n",
    "scikits.statsmodels (0.3.1)  - Statistical computations and models for use with SciPy\n",
    "statsmodels (0.8.0)          - Statistical computations and models for Python\n",
    "```\n",
    "Mostra que há dois pocatoes disponíveis os quais não estão instalados. Para instalar use\n",
    "```bash\n",
    "> sudo -H pip3 install statsmodels\n",
    "```\n",
    "e ele irá instalar o pacote para todos os usuários do sistema, a opção `-H` do sudo. Note que o comando \n",
    "```bash\n",
    "> pip3 install statsmodels\n",
    "```\n",
    "irá instalar o pacote localmente na área do usuário. \n",
    "\n",
    "**OBS:** Na instalação use a opção `-U` ou `--upgrade` para força todos os pacotes a fazerem um *upgrade* para a versão mais nova. \n",
    "\n",
    "Para desinstalar o pacote `statsmodels` proceda da seguinte forma:\n",
    "```bash\n",
    "> sudo -H pip3 uninstall statsmodels\n",
    "```\n",
    "\n",
    "Tanto na instalação \n",
    "\n",
    "```bash\n",
    "> sudo -H pip3 install statsmodels\n",
    "```\n",
    "\n",
    "Para obter informações do pacote use a opção `show` \n",
    "```bash\n",
    "> pip3 show qutip\n",
    "Name: qutip\n",
    "Version: 4.3.1\n",
    "Summary: QuTiP: The Quantum Toolbox in Python\n",
    "Home-page: http://qutip.org\n",
    "Author: Alexander Pitchford, Paul D. Nation, Robert J. Johansson, Chris Granade, Arne Grimsmo\n",
    "Author-email: alex.pitchford@gmail.com, nonhermitian@gmail.com, jrjohansson@gmail.com, cgranade@cgranade.com, arne.grimsmo@gmail.com\n",
    "License: BSD\n",
    "Location: /usr/local/lib/python3.6/dist-packages\n",
    "Requires: numpy, cython, scipy\n",
    "Required-by: \n",
    "```\n",
    "\n",
    "De tempo em tempos é bom verificar se não há atualizações para os pacotes que já estão instalados. Para ver uma lista completa dos pacotes pip desatualizados use o seguinte comando:\n",
    "\n",
    "```bash\n",
    "> pip list --format=columns --outdated\n",
    "Package        Version    Latest    Type\n",
    "-------------- ---------- --------- -----\n",
    "cclib          1.3.1      1.6       sdist\n",
    "gbp            0.0        0.9.10    sdist\n",
    "httplib2       0.9.2      0.11.3    sdist\n",
    "joblib         0.11       0.12.5    wheel\n",
    "Markdown       2.6.9      3.0.1     wheel\n",
    "Markups        2.0.1      3.0.0     wheel\n",
    "pexpect        4.2.1      4.6.0     wheel\n",
    "psutil         5.4.2      5.4.8     sdist\n",
    "pyasn1-modules 0.2.1      0.2.2     wheel\n",
    "pycairo        1.16.2     1.17.1    sdist\n",
    "pycups         1.9.73     1.9.74    sdist\n",
    "pycurl         7.43.0.1   7.43.0.2  sdist\n",
    "pygobject      3.26.1     3.30.1    sdist\n",
    "PyICU          1.9.8      2.2       sdist\n",
    "pyxdg          0.25       0.26      wheel\n",
    "PyYAML         3.12       3.13      sdist\n",
    "regex          2017.12.12 2018.8.29 sdist\n",
    "roman          2.0.0      3.1       sdist\n",
    "scikit-learn   0.19.1     0.20.0    wheel\n",
    "wxPython       4.0.1      4.0.3     sdist\n",
    "```\n",
    "\n",
    "Para atualizar um pacote específico, por exemplo o `scikit-learn`, faça o seguinte:\n",
    "\n",
    "```bash\n",
    "> sudo -H pip install -U scikit-learn\n",
    "```\n",
    "\n",
    "Dessa forma, é posível manter seu sistema atualizado."
   ]
  },
  {
   "cell_type": "markdown",
   "metadata": {
    "slideshow": {
     "slide_type": "slide"
    }
   },
   "source": [
    "## Instalação via pip\n",
    "\n",
    "Para os usuários iniciantes, recomenda-se fazer a instalação via os pacotes Debian do Ubuntu e seus derivados. E tente manter essa instalação sem quebrar o sistema. Nesse caso voê não contará com as bibliotecas mais atualizadas, entretanto seu sisetema e sua instalação se manterão estaveis.\n",
    "\n",
    "Para os usuários menos experientes que insistem na instalação de bibliotecas python mais atualizadas, a página de documentação do [Jupyter Notebook](http://jupyter.org/) recomenda que se faça uso da distribuição [Anaconda](https://www.continuum.io/) para instalar o Python e o Jupyter, por ser fácil de instalar em qualquer que seja seu sistema operacional. Uma outra boa opção que também é fácil de instalar e que  suporta Mac, Windows e Linux, e que tem todos esses pacotes (e muito mais) é a [Entought Python Distribution](https://www.enthought.com/products/epd), também conhecido como EPD, que parece estar mudando seu nome para Enthought Canopy. Enthought é uma empresa comercial que suporta um monte de muito bom trabalho em desenvolvimento e aplicação científica Python. Você pode adquirir uma licença para usar EPD, ou há também uma [versão gratuita](https://www.enthought.com/products/epd/free/) que você pode baixar e instalar. \n",
    "\n",
    "A seguir descrevemos como instalar o jupyter.\n",
    "\n",
    "### Via o Anaconda e conda <a name=\"Anaconda\"></a>\n",
    "\n",
    "Os usuários de outros sistemas operacionais e também do linux podem optar por uma distribuição do python e suas bibliotecas chamada  [Anaconda](https://www.continuum.io/). A página oficial do Jupyter Notebook recomenda, que se instale o [Anaconda](https://www.continuum.io/downloads). Isso deve-se ao fato de que o [Anaconda](https://www.continuum.io/) convenientemente instala Python, o [Jupyter Notebook](http://jupyter.org/), e outros pacotes comumente usados para computação científica e nas ciências de análise de dados.\n",
    "\n",
    "Use as seguintes etapas de instalação:\n",
    "\n",
    "- Faça o download do Anaconda. Recomenda-se que você baixe a última versão do Python 3 da Anaconda (atualmente Python 3.6).\n",
    "- Instale a versão do Anaconda que você baixou, seguindo as instruções na página de download. Ela já vem com mais de 200 bibliotecas instaladas por padrão, incluindo o Jupyter Notebooks, etc. Se deseja podera instalar o JupyterLab da seguinte forma:\n",
    "\n",
    "```bash\n",
    "conda install -c conda-forge jupyterlab\n",
    "```\n",
    "\n",
    "- Ao término da etapa anterior, você terá instalado o Jupyter Notebook. Para executar o notebook, digite na linha de comando:\n",
    "\n",
    "\n",
    "```bash\n",
    "> jupyter-notebook\n",
    "```\n",
    "\n",
    "Aqui temos alguns sites que detalham como instalar o anaconda\n",
    "\n",
    "- [Como instalar o anaconda](https://programandociencia.com/2015/08/07/instalando-o-anaconda/)\n",
    "- [Como instalar Python e Jupyter Notebook usando Anaconda](https://paulovasconcellos.com.br/como-baixar-anaconda-31fd49c19bd8)\n",
    "- [How to install anaconda on ubuntu 16.04](https://www.digitalocean.com/community/tutorials/how-to-install-the-anaconda-python-distribution-on-ubuntu-16-04)\n",
    "\n",
    "\n",
    "### Usuários Linux: Instalar o Jupyter com o pip <a name=\"pip\"></a>\n",
    "\n",
    "#### Importante\n",
    "\n",
    "A instalação do Jupyter requer Python 3.3 ou superior, ou Python 2.7. IPython 1.x, que incluiu as partes que mais tarde se tornou Jupyter, foi a última versão para suportar Python 3.2 e 2.6.\n",
    "\n",
    "Como um usuário mais experiente do Python, você pode querer instalar o Jupyter usando o gerenciador de pacotes do Python, pip, em vez de Anaconda.\n",
    "\n",
    "Nos ambientes GNU/Linu, primeiro, certifique-se de que você tem o pip mais recente; Versões mais antigas podem ter problemas com algumas dependências:\n",
    "\n",
    "```bash\n",
    "> sudo -H pip3 install --upgrade pip3\n",
    "```\n",
    "\n",
    "ou\n",
    "\n",
    "```bash\n",
    "> sudo -H pip3 install -U pip3\n",
    "```\n",
    "\n",
    "Em seguida, instale o Jupyter Notebook usando:\n",
    "\n",
    "```bash\n",
    "> sudo -H pip3 install jupyter\n",
    "```\n",
    "\n",
    "(Use pip se estiver usando o Python 2.)\n",
    "\n",
    "Para instalar algumas extensões do jupyter notebook consulte:\n",
    "\n",
    "- [Jupyter notebook extensions](https://github.com/ipython-contrib/jupyter_contrib_nbextensions)\n",
    "- [Notebook extensions](https://carreau.gitbooks.io/jupyter-book/content/notebook-extensions.html)\n",
    "- [Installing Jupyter Notebook Extensions](https://www.oreilly.com/learning/installing-jupyter-notebook-extensions)\n",
    "- [An easy way to install Jupyter Notebook extensions](http://blog.rtwilson.com/an-easy-way-to-install-jupyter-notebook-extensions/)\n",
    "- [Installing jupyter_contrib_nbextensions](http://jupyter-contrib-nbextensions.readthedocs.io/en/latest/install.html)\n",
    "- [Distributing Jupyter Extensions as Python Packages](http://jupyter-notebook.readthedocs.io/en/latest/examples/Notebook/Distributing%20Jupyter%20Extensions%20as%20Python%20Packages.html)\n"
   ]
  },
  {
   "cell_type": "markdown",
   "metadata": {},
   "source": [
    "## Um passeio sobre alguns pacotes essenciais do Python <a name=\"CP1-Bibliotecas\"></a>\n",
    "\n",
    "Mencionamos que as duas características mais relevantes do Python são a sua capacidade de integração com outras linguagens e seu sistema de pacote maduro que é bem incorporado pelo PyPI [O Índice do Pacote Python](https://pypi.python.org/pypi), um repositório comum Para a maioria dos pacotes do Python.\n",
    "\n",
    "Os pacotes que vamos agora introduzir são fortemente analíticos e oferecerão uma completa Data Science Toolbox composta de funções altamente otimizadas para trabalhar, configuração de memória ideal, pronto para alcançar operações de script com desempenho ideal. Uma explicação sobre como instalá-los é fornecida na seção a seguir.\n",
    "\n",
    "Parcialmente inspirados por ferramentas semelhantes presentes nos ambientes R e MATLAB, exploraremos em conjunto como alguns comandos Python selecionados podem permitir que você manipule dados com eficiência e, em seguida, explore, transforme, experimente e aprenda com os mesmos sem ter que escrever muito código ou reinventar a roda.\n",
    "\n",
    "### IPython <a name=\"CP1-Lib-ipython\"></a>\n",
    "\n",
    "Uma abordagem científica requer a experimentação rápida de diferentes hipóteses de forma reprodutível. O IPython foi criado por Fernando Perez para responder à necessidade de um shell de comando interactivo Python (que se baseia no shell, no navegador web e na interface do aplicativo), com integração gráfica, comandos personalizáveis, histórico rico (no formato JSON) E paralelismo computacional para um desempenho melhorado. O IPython é a nossa escolha favorita ao longo deste livro, e é usado para ilustrar de forma clara e eficaz operações com scripts e dados e os resultados conseqüentes.\n",
    "\n",
    "- Site: http://ipython.org/\n",
    "- Versão atual: 2.3"
   ]
  },
  {
   "cell_type": "markdown",
   "metadata": {
    "slideshow": {
     "slide_type": "slide"
    }
   },
   "source": [
    "## Bibliotecas essenciais <a name=\"CP1-Bibliotecas\"></a>\n",
    "\n",
    "A seguir apresentmos uuma lista das bibliotecas cinetificas que estaremos usando nesse curso. Há dois modos de intalar elas: i) usando as bibliotcas distribuídas com sua distribuição Linux, o que significa que provavelmente ela não estará atualizada. Nesse caso usa-se o `apt-get install` para instalar as bibliotecas. ii) Pode-se instalar essas bibliotecas via o Índice de Pacotes do Python, o pip3, o qual sempre está mais atualizado.\n",
    "\n",
    "#### Bibliotecas científicas que todos devem instalar, via distribuição Linux:\n",
    "\n",
    "```bash\n",
    "sudo apt install -y python3-matplotlib python3-numpy python3-numpydoc \n",
    "sudo apt install -y python3-pandas python3-pandas-lib python3-mpmath \n",
    "sudo apt install -y python3-numexpr python3-scipy python3-sympy\n",
    "sudo apt install -y python3-pyfftw python3-opengl python3-seaborn\n",
    "```\n",
    "seus pacotes para permitir debugs:\n",
    "```bash\n",
    "sudo apt install -y python3-matplotlib-dbg python3-numpy-dbg python3-numexpr-dbg\n",
    "```\n",
    "Alguns pacotes úteis para tratar imagens, textos html, etc:\n",
    "\n",
    "```bash\n",
    "sudo apt install -y python3-html2text python3-html5lib python3-urllib3 python3-bs4 \n",
    "sudo apt install -y python3-pdfrw python3-pil python3-pil.imagetk python3-pilkit\n",
    "sudo apt install -y python3-img2pdf python3-skimage-lib python3-sklearn-lib \n",
    "sudo apt install -y python3-pil-dbg python3-pil.imagetk-dbg python3-pyfftw-dbg \n",
    "```\n",
    "\n",
    "\n",
    "#### Bibliotecas científicas que todos devem instalar, via o Índice de Pacotes do Python:\n",
    "\n",
    "```bash\n",
    "sudo -H pip3 install -U matplotlib numpy numpydoc \n",
    "sudo -H pip3 install -U pandas pandas-lib mpmath \n",
    "sudo -H pip3 install -U numexpr scipy sympy\n",
    "sudo -H pip3 install -U pyfftw opengl seaborn\n",
    "```\n",
    "\n",
    "Alguns pacotes úteis para tratar imagens, textos html, etc:\n",
    "\n",
    "```bash\n",
    "sudo -H pip3 install -U html2text html5lib urllib3 beautifulsoup4\n",
    "sudo -H pip3 install -U pdfrw PIL pilkit pdf2image\n",
    "sudo -H pip3 install -U img2pdf scikit-image sklearn sklearn-template sklearn_utils\n",
    "```\n",
    "\n",
    "### Descrição das bibliotecas mais importantes\n",
    "\n",
    "\n",
    "#### NumPy <a name=\"CP1-Lib-NumPy\"></a>\n",
    "\n",
    "NumPy, que é a criação de Travis Oliphant, é o verdadeiro laboratório analítico da linguagem Python. Ele fornece ao usuário arrays multidimensionais, juntamente com um grande conjunto de funções para lidar com uma multiplicidade de operações matemáticas sobre matrizes (\"arrays\"). Arrays são blocos de dados dispostos ao longo de múltiplas dimensões, que implementam vetores matemáticos e matrizes. As matrizes são úteis não apenas para armazenar dados, mas também para operações de matriz rápida (vectorization), que são indispensáveis quando você deseja resolver problemas ad hoc de ciência de dados.\n",
    "\n",
    "- Site: http://www.numpy.org/\n",
    "- Versão atual: 1.16.2\n",
    "- Pacote python3/Debian: python3-numpy\n",
    "\n",
    "**Nota:** Como uma convenção amplamente adotada pela comunidade Python, ao importar NumPy, sugere-se que você o alias como np:\n",
    "\n",
    "```python\n",
    "import numpy as np\n",
    "``` \n",
    "\n",
    "Estaremos fazendo isso ao longo deste texto.\n",
    "\n",
    "#### SciPy <a name=\"CP1-Lib-SciPy\"></a>\n",
    "\n",
    "Um projeto original de Travis Oliphant, Pearu Peterson e Eric Jones, SciPy completa as funcionalidades do NumPy, oferecendo uma maior variedade de algoritmos científicos para álgebra linear, matrizes esparsas, processamento de sinais e imagens, otimização, transformada rápida de Fourier e muito mais.\n",
    "\n",
    "- Site: http://www.scipy.org/\n",
    "- Versão atual: 1.2.1\n",
    "- Pacote python3/Debian: python3-scipy\n",
    "\n",
    "#### Matplotlib <a name=\"CP1-Lib-Matplotlib\"></a>\n",
    "\n",
    "Originalmente desenvolvido por John Hunter, matplotlib é a biblioteca que contém todos os blocos de construção que são necessários para criar gráficos de qualidade a partir de arrays e visualizá-los interativamente.\n",
    "\n",
    "Você pode encontrar todas as estruturas de plotagem de tipo MATLAB dentro do módulo pylab.\n",
    "\n",
    "- Site: http://matplotlib.org/\n",
    "- Versão atual: 3.0.3\n",
    "- Pacote python3/Debian: python3-matplotlib\n",
    "\n",
    "Pode-se importar o que você precisa para suas finalidades de visualização com o seguinte comando:\n",
    "\n",
    "```python\n",
    "import matplotlib.pyplot as plt\n",
    "```\n",
    "\n",
    "#### SymPy\n",
    "\n",
    "SymPy é uma biblioteca Python para matemática simbólica. Ele pretende tornar-se um sistema completo de álgebra computacional (CAS), mantendo o código o mais simples possível para ser compreensível e facilmente extensível. A SymPy foi escrita inteiramente em Python. Você não precisa instalar o SymPy para iniciar o seu uso. Você pode usar o shell on-line em http://live.sympy.org.\n",
    "\n",
    "- Site: http://sympy.org\n",
    "- Versão atual: 1.1.1\n",
    "- Pacote python3/Debian: python3-sympy\n",
    "\n",
    "#### Pandas <a name=\"CP1-Lib-Pandas\"></a>\n",
    "\n",
    "O pacote pandas lida com tudo o que NumPy e SciPy não pode fazer. Graças às suas estruturas de dados de objetos específicos, DataFrames e Series, pandas permite manipular tabelas complexas de dados de diferentes tipos (que é algo que as matrizes de NumPy não podem fazer) e séries temporais. Graças à criação de Wes McKinney, você será capaz de facilmente e sem problemas carregar dados de uma variedade de fontes. Você pode então cortar, fragmentar, manipular elementos ausentes, adicionar, renomear, agregar, reformular e, finalmente, visualizar esses dados em sua vontade.\n",
    "\n",
    "- Site: http://pandas.pydata.org/\n",
    "- Versão atual: 0.24.1\n",
    "- Pacote python3/Debian: python3-pandas\n",
    "\n",
    "Convencionalmente, a biblioteca panda é importada no python como pd:\n",
    "\n",
    "```python\n",
    "import pandas as pd\n",
    "```\n",
    "\n",
    "\n",
    "#### Beautiful Soup <a name=\"CP1-Lib-BeautifulSoup\"></a>\n",
    "\n",
    "Beautiful Soup, uma criação de Leonard Richardson, é uma ótima ferramenta para tratar dados de arquivos HTML e XML obtidos da Internet. Funciona incrivelmente bem, mesmo no caso das sopas de tags (daí o nome), que são coleções de etiquetas malformadas e contraditórias e incorretas. Depois de escolher o analisador (basicamente, o analisador HTML incluído na biblioteca padrão do Python funciona bem), graças à Beautiful Soup, você pode navegar pelos objetos na página e extrair texto, tabelas e qualquer outra informação que possa ser útil.\n",
    "\n",
    "Com o `pip`, para instalar o BeautifulSoup faça:\n",
    "\n",
    "```bash\n",
    "> sudo -H pip3 install -U bs4\n",
    "```\n",
    "\n",
    "Ao fazer isso ele irá instalar o pacote `beautifulsoup4`. Note que\n",
    "\n",
    "```bash\n",
    "> pip3 show beautifulsoup4\n",
    "Name: beautifulsoup4\n",
    "Version: 4.7.1\n",
    "Summary: Screen-scraping library\n",
    "Home-page: http://www.crummy.com/software/BeautifulSoup/bs4/\n",
    "Author: Leonard Richardson\n",
    "Author-email: leonardr@segfault.org\n",
    "License: MIT\n",
    "Location: /usr/local/lib/python3.6/dist-packages\n",
    "Requires: soupsieve\n",
    "Required-by: bs4\n",
    "```\n",
    "\n",
    "- Site: http://www.crummy.com/software/BeautifulSoup/\n",
    "- Versão atual: 4.7.1\n",
    "- Pacote python3/Debian: python3-bs4\n",
    "\n",
    "**Nota:** Observe que o módulo importado é denominado bs4.\n",
    "\n",
    "```python\n",
    "from bs4 import BeautifulSoup\n",
    "```\n",
    "\n",
    "#### Scikit-learn <a name=\"CP1-Lib-Scikit-learn\"></a>\n",
    "\n",
    "Iniciado como parte do SciKits (SciPy Toolkits), Scikit-learn é o núcleo das operações de ciência de dados em Python. Ele oferece tudo o que você pode precisar em termos de pré-processamento de dados, aprendizado supervisionado e não supervisionado, seleção de modelos, validação e métricas de erro.  O Scikit-learn começou em 2007 como um projeto Google Summer of Code de David Cournapeau. Desde 2013, foi retomado pelos investigadores do INRA (Instituto Francês de Investigação em Informática e Automação).\n",
    "\n",
    "Com o `pip`, para instalar o `Scikit-learn` faça:\n",
    "\n",
    "```bash\n",
    "> sudo -H pip3 install -U sklearn\n",
    "```\n",
    "\n",
    "Ao fazer isso ele irá instalar o pacote `Scikit-learn`. Note que\n",
    "\n",
    "```bash\n",
    "> pip3 show sklearn\n",
    "Name: sklearn\n",
    "Version: 0.0\n",
    "Summary: A set of python modules for machine learning and data mining\n",
    "Home-page: https://pypi.python.org/pypi/scikit-learn/\n",
    "Author: UNKNOWN\n",
    "Author-email: UNKNOWN\n",
    "License: None\n",
    "Location: /usr/local/lib/python3.6/dist-packages\n",
    "Requires: scikit-learn\n",
    "Required-by: \n",
    "```\n",
    "\n",
    "- Site: http://scikit-learn.org/stable/\n",
    "- Versão atual: 0.20.3\n",
    "- Pacote python3/Debian: python3-sklearn\n",
    "\n",
    "\n",
    "**Nota:** Observe que o módulo importado é denominado sklearn.\n",
    "\n",
    "\n",
    "#### Statsmodels <a name=\"CP1-Lib-Statsmodel\"></a>\n",
    "\n",
    "Anteriormente parte de SciKits, statsmodels foi pensado para ser um complemento para SciPy funções estatísticas. Ele apresenta modelos lineares generalizados, modelos de escolha discreta, análise de séries temporais e uma série de estatísticas descritivas, bem como testes paramétricos e não paramétricos.\n",
    "\n",
    "- Site: http://statsmodels.sourceforge.net/\n",
    "- Versão atual: 0.6.0\n",
    "- Pacote python3/Debian: python3-statsmodels\n",
    "\n",
    "Instalação via pip3 e o nome do pacote é:\n",
    "\n",
    "- scikits.statsmodels (0.3.1)  - Statistical computations and models for use with SciPy\n",
    "- statsmodels (0.9.0)          - Statistical computations and models for Python\n",
    "\n",
    "#### Seaborn\n",
    "\n",
    "É uma biblioteca para visualização de dados estatísticos, baseada na matplotlib.\n",
    "\n",
    "- Site:https://seaborn.pydata.org/\n",
    "- Versão atual: 0.9.0\n",
    "- Pacote python3/Debian: python3-seaborn\n",
    "\n",
    "Instalada via pip, mas possui um pacote debian\n",
    "\n",
    "#### NetworkX <a name=\"CP1-Lib-NetworkX\"></a>\n",
    "\n",
    "Desenvolvido pelo Laboratório Nacional de Los Alamos, NetworkX é um pacote especializado na criação, manipulação, análise e representação gráfica de dados de rede da vida real (pode facilmente operar com gráficos compostos de um milhão de nós e bordas). Além de estruturas de dados especializadas para gráficos e métodos de visualização fina (2D e 3D), ele fornece ao usuário muitas medidas de gráfico padrão e algoritmos, como o caminho mais curto, centralidade, componentes, comunidades, cluster e PageRank. \n",
    "\n",
    "- Site: https://networkx.github.io/\n",
    "- Versão atual: 2.2\n",
    "- Pacote python3/Debian: python3-networkx\n",
    "\n",
    "Convencionalmente, o NetworkX é importado como nx:\n",
    "\n",
    "```python\n",
    "import networkx as nx\n",
    "```\n",
    "\n",
    "### NLTK <a name=\"CP1-Lib-NLTK\"></a>\n",
    "\n",
    "O Natural Language Toolkit (NLTK) fornece acesso a recursos corporais e lexicos e a um conjunto completo de funções para o Processamento de Linguagem Natural (NLP), variando de tokenizers a taggers de parte de fala e de modelos de árvore ao reconhecimento de entidade nomeada. Inicialmente, o pacote foi criado por Steven Bird e Edward Loper como uma infra-estrutura de ensino de PNL para CIS-530 na Universidade da Pensilvânia. É uma ferramenta fantástica que você pode usar para protótipo e construir sistemas de PNL.\n",
    "\n",
    "- Site: http://www.nltk.org/\n",
    "- Versão atual: 3.0"
   ]
  },
  {
   "cell_type": "code",
   "execution_count": null,
   "metadata": {
    "ExecuteTime": {
     "end_time": "2019-03-06T23:51:13.162768Z",
     "start_time": "2019-03-06T23:51:13.148406Z"
    },
    "slideshow": {
     "slide_type": "slide"
    }
   },
   "outputs": [],
   "source": [
    "%%writefile install_python.sh\n",
    "#!/bin/sh\n",
    "sudo apt update\n",
    "# Os pacotes essenciais para o jupyter\n",
    "sudo apt install -y python3 python3-doc python3-all python3-pip python3-setuptools  \n",
    "sudo apt install -y ipython3 python3-ipykernel  \n",
    "sudo apt install -y jupyter jupyter-core jupyter-client jupyter-nbconvert jupyter-nbformat jupyter-notebook \n",
    "sudo apt install -y python3-jupyter-client python3-jupyter-core jupyter-nbextension-jupyter-js-widgets\n",
    "sudo apt install -y python3-virtualenv \n",
    "sudo apt install -y pandoc pandoc-data python3-pandocfilters python3-sphinx\n",
    "# A principais bibliotecas para o python3\n",
    "sudo apt install -y python3-bs4 python3-all-dev python3-examples python3-markdown python3-matplotlib python3-numpy python3-pandas python3-opengl python3-mpmath python3-nltk python3-numexpr python3-pandas-lib python3-html2text python3-html5lib python3-img2pdf python3-magic python3-matplotlib-dbg python3-numpy-dbg python3-numexpr-dbg python3-numpydoc  python3-pdfrw python3-pil python3-pil-dbg python3-pil.imagetk python3-pil.imagetk-dbg python3-pilkit python3-pip python3-pyfftw python3-pyfftw-dbg python3-scipy python3-sympy python3-skimage-lib python3-sklearn python3-sklearn-lib python3-seaborn python3-sphinx"
   ]
  },
  {
   "cell_type": "code",
   "execution_count": null,
   "metadata": {
    "ExecuteTime": {
     "end_time": "2019-03-06T23:51:15.821917Z",
     "start_time": "2019-03-06T23:51:15.706061Z"
    },
    "slideshow": {
     "slide_type": "slide"
    }
   },
   "outputs": [],
   "source": [
    "! cat install_python.sh"
   ]
  },
  {
   "cell_type": "markdown",
   "metadata": {},
   "source": [
    "Agora para instalar o script abra um terminal na pasta onde enoctra-se o scpript e digite:\n",
    "```bash\n",
    "sh ./install_python.sh\n",
    "```"
   ]
  },
  {
   "cell_type": "code",
   "execution_count": null,
   "metadata": {},
   "outputs": [],
   "source": [
    "# Descomente e rode a seguite célula caso mantenha toda a instalação via pacotes debian\n",
    "# Antes leia a próxima seção\n",
    "#! sh ./install_python.sh"
   ]
  },
  {
   "cell_type": "markdown",
   "metadata": {},
   "source": [
    "O código a seguir só deve ser usado se sua opção foi por uma instalação via o `pip` "
   ]
  },
  {
   "cell_type": "code",
   "execution_count": null,
   "metadata": {
    "ExecuteTime": {
     "end_time": "2018-10-30T16:01:28.755223Z",
     "start_time": "2018-10-30T16:01:28.750113Z"
    }
   },
   "outputs": [],
   "source": [
    "%%writefile install_via_pip.sh\n",
    "sudo -H pip3 install -U pip\n",
    "sudo -H pip3 install -U matplotlib numpy numpydoc \n",
    "sudo -H pip3 install -U pandas pandas-lib mpmath \n",
    "sudo -H pip3 install -U numexpr scipy sympy\n",
    "sudo -H pip3 install -U pyfftw opengl seaborn\n",
    "sudo -H pip3 install -U html2text html5lib urllib3 beautifulsoup4\n",
    "sudo -H pip3 install -U pdfrw PIL pilkit pdf2image\n",
    "sudo -H pip3 install -U img2pdf scikit-image sklearn sklearn-template sklearn_utils"
   ]
  },
  {
   "cell_type": "code",
   "execution_count": null,
   "metadata": {
    "ExecuteTime": {
     "end_time": "2018-10-30T15:59:20.394599Z",
     "start_time": "2018-10-30T15:59:20.285673Z"
    }
   },
   "outputs": [],
   "source": [
    "! cat install_via_pip.sh"
   ]
  },
  {
   "cell_type": "code",
   "execution_count": null,
   "metadata": {
    "ExecuteTime": {
     "end_time": "2018-10-30T16:00:32.023343Z",
     "start_time": "2018-10-30T15:59:34.690506Z"
    }
   },
   "outputs": [],
   "source": [
    "# Descomente e rode a seguite célula caso mantenha toda a instalação via pacotes pip\n",
    "# Antes leia a próxima seção\n",
    "#! sh ./install_via_pip.sh"
   ]
  },
  {
   "cell_type": "markdown",
   "metadata": {},
   "source": [
    "## Ajustando a configuração do Linux\n",
    "\n",
    "Uma das habilidades do Jupyter Notebook reside no fato de que não é necessário deixar o ambiente para realizar muitas das tarefas do sistema, mesmo a instalação de softwares. Entretanto nesse caso é necessário fazer um pequeno ajuste no sistema. Vamos permitir que o administrador da máquina que é quem está usando ela não precise mais de digitar o seu password ao usar o sudo. Para isso edite o arquivo <span style=\"color:blue\">/etc/sudoers</span>\n",
    "e acrescente uma linha contendo\n",
    "\n",
    "```bash\n",
    "login_do_usuario  ALL=(ALL:ALL) NOPASSWD:ALL\n",
    "```\n",
    "\n",
    "Devendo ficar conforme o exemplo abaixo, no qual o meu login é <span style=\"color:blue\">salviano</span>.\n",
    "\n",
    "[Blog do Da2k](https://blog.da2k.com.br \"Clique e acesse agora!\")\n",
    "<span style=\"color:blue\">Esse é um pequeno texto em *azul*</span>"
   ]
  },
  {
   "cell_type": "code",
   "execution_count": 2,
   "metadata": {},
   "outputs": [
    {
     "name": "stdout",
     "output_type": "stream",
     "text": [
      "#\r\n",
      "# This file MUST be edited with the 'visudo' command as root.\r\n",
      "#\r\n",
      "# Please consider adding local content in /etc/sudoers.d/ instead of\r\n",
      "# directly modifying this file.\r\n",
      "#\r\n",
      "# See the man page for details on how to write a sudoers file.\r\n",
      "#\r\n",
      "Defaults\tenv_reset\r\n",
      "Defaults\tmail_badpass\r\n",
      "Defaults\tsecure_path=\"/usr/local/sbin:/usr/local/bin:/usr/sbin:/usr/bin:/sbin:/bin:/snap/bin\"\r\n",
      "\r\n",
      "# Host alias specification\r\n",
      "\r\n",
      "# User alias specification\r\n",
      "\r\n",
      "# Cmnd alias specification\r\n",
      "\r\n",
      "# User privilege specification\r\n",
      "root\tALL=(ALL:ALL) ALL\r\n",
      "\r\n",
      "# Members of the admin group may gain root privileges\r\n",
      "%admin ALL=(ALL) ALL\r\n",
      "\r\n",
      "# Allow members of group sudo to execute any command\r\n",
      "%sudo\tALL=(ALL:ALL) ALL\r\n",
      " salviano  ALL=(ALL:ALL) NOPASSWD:ALL\r\n",
      "\r\n",
      "# See sudoers(5) for more information on \"#include\" directives:\r\n",
      "\r\n",
      "#includedir /etc/sudoers.d\r\n"
     ]
    }
   ],
   "source": [
    "!sudo cat /etc/sudoers"
   ]
  },
  {
   "cell_type": "markdown",
   "metadata": {},
   "source": [
    "Para ver o seu login:"
   ]
  },
  {
   "cell_type": "code",
   "execution_count": 3,
   "metadata": {},
   "outputs": [
    {
     "name": "stdout",
     "output_type": "stream",
     "text": [
      "salviano\r\n"
     ]
    }
   ],
   "source": [
    "! echo $USER"
   ]
  },
  {
   "cell_type": "markdown",
   "metadata": {},
   "source": [
    "Considerando que o resultado do comando acima, ou seja o login do usuário, seja `pedro`, então para ajustar o arquivo `/etc/sudoers` abra um terminal e digite:\n",
    "```bash\n",
    "sudo sed -i \"/^%sudo/ a\\pedro  ALL=(ALL:ALL) NOPASSWD:ALL\" /etc/sudoers\n",
    "```\n",
    "ou\n",
    " \n",
    "```bash\n",
    "sudo sed -i \"/^%sudo/ a\\ $USER  ALL=(ALL:ALL) NOPASSWD:ALL\" /etc/sudoers\n",
    "```\n",
    "\n",
    "A seguir verifique se o comando rodou corretamente. Para isso abra um terminal e digite:\n",
    "```bash\n",
    "sudo cat /etc/gshadow\n",
    "```\n",
    "\n",
    "Se o comando acima não te pedir a senha e mostar a listagem do arquivo `/etc/gshadow`, então pode continuar e executar a próxima célula."
   ]
  },
  {
   "cell_type": "markdown",
   "metadata": {},
   "source": [
    "Uma vez feito isso teste verificando se o sistema não está pedindo o password e para isso abra um terminal e digite:\n",
    "```bash\n",
    "sudo apt update\n",
    "```\n",
    "\n",
    "Se o comando rodou sem te pedir a senha então, pode continuar e executar a próxima célula."
   ]
  },
  {
   "cell_type": "code",
   "execution_count": 1,
   "metadata": {
    "ExecuteTime": {
     "end_time": "2019-04-07T16:49:30.185969Z",
     "start_time": "2019-04-07T16:49:28.157482Z"
    }
   },
   "outputs": [
    {
     "name": "stdout",
     "output_type": "stream",
     "text": [
      "Collecting version_information\n",
      "  Downloading https://files.pythonhosted.org/packages/ff/b0/6088e15b9ac43a08ccd300d68e0b900a20cf62077596c11ad11dd8cc9e4b/version_information-1.0.3.tar.gz\n",
      "Building wheels for collected packages: version-information\n",
      "  Building wheel for version-information (setup.py) ... \u001b[?25ldone\n",
      "\u001b[?25h  Created wheel for version-information: filename=version_information-1.0.3-cp36-none-any.whl size=4698 sha256=aa60bcf3ab7d053522d9bd8824db9c79406b0195ea8484d2c1d479d32815e2c1\n",
      "  Stored in directory: /root/.cache/pip/wheels/1f/4c/b3/1976ac11dbd802723b564de1acaa453a72c36c95827e576321\n",
      "Successfully built version-information\n",
      "Installing collected packages: version-information\n",
      "Successfully installed version-information-1.0.3\n"
     ]
    }
   ],
   "source": [
    "!sudo -H pip3 install -U  version_information"
   ]
  },
  {
   "cell_type": "markdown",
   "metadata": {},
   "source": [
    "## Verificando a instalação\n",
    "\n",
    "Se você instalou tudo corretamente, então abra um terminal e digite\n",
    "\n",
    "```bash\n",
    "> jupyter-notebook\n",
    "```\n",
    "\n",
    "Ele então vai abrir o navegador e você terá o jupyter funcionando.\n",
    "\n",
    "Para verificar a versão atual instalada dos pacotes selecionados, considere por exemplo: o numpy, scipy, matplotlib, sympy, pandas, ipython, jupyter. Digite o comando abaixo na célula do Jupyter"
   ]
  },
  {
   "cell_type": "code",
   "execution_count": null,
   "metadata": {
    "ExecuteTime": {
     "end_time": "2019-04-07T16:49:38.520740Z",
     "start_time": "2019-04-07T16:49:35.194399Z"
    }
   },
   "outputs": [],
   "source": [
    "%load_ext version_information\n",
    "%version_information jupyter, numpy, scipy, matplotlib, sympy, pandas, scikit-learn, qutip"
   ]
  },
  {
   "cell_type": "markdown",
   "metadata": {},
   "source": [
    "# Instalando o kernel do Fortran <a name=\"Kernel-Fortran\"></a>\n",
    "\n",
    "Para instalar o [kernel do fortran](https://github.com/ZedThree/jupyter-fortran-kernel) siga os passos a seguir:\n",
    "\n",
    "### Instalação Manual \n",
    "\n",
    "Certifique-se que o seu sistemas tem o seguintes programas instalados:\n",
    "\n",
    "- gfortran\n",
    "- jupyter\n",
    "- python 3\n",
    "- pip3\n",
    "\n",
    "### Instalação passo a passo\n",
    "\n",
    "Siga as instruções na sequência a seguir:\n",
    "\n",
    "```bash\n",
    "> git clone https://github.com/ZedThree/jupyter-fortran-kernel.git\n",
    "> sudo -H pip3 install jupyter-fortran-kernel\n",
    "> cd jupyter-fortran-kernel\n",
    "> sudo -H jupyter-kernelspec install fortran_spec/\n",
    "> jupyter-notebook. \n",
    "```\n",
    "Agora é só testar. Reinicie o jupyter notebook \n"
   ]
  },
  {
   "cell_type": "code",
   "execution_count": null,
   "metadata": {
    "ExecuteTime": {
     "end_time": "2019-04-07T16:58:37.940283Z",
     "start_time": "2019-04-07T16:58:36.328871Z"
    }
   },
   "outputs": [],
   "source": [
    "!sudo -H pip3 install --upgrade  jupyter-fortran-kernel"
   ]
  },
  {
   "cell_type": "code",
   "execution_count": 4,
   "metadata": {
    "ExecuteTime": {
     "end_time": "2019-04-07T16:58:47.522969Z",
     "start_time": "2019-04-07T16:58:47.301310Z"
    }
   },
   "outputs": [],
   "source": [
    "! mkdir -p Fortran\n",
    "! ls Fortran/"
   ]
  },
  {
   "cell_type": "code",
   "execution_count": 5,
   "metadata": {
    "ExecuteTime": {
     "end_time": "2019-04-07T16:58:48.807432Z",
     "start_time": "2019-04-07T16:58:48.801336Z"
    }
   },
   "outputs": [
    {
     "name": "stdout",
     "output_type": "stream",
     "text": [
      "Writing Fortran/kernel.json\n"
     ]
    }
   ],
   "source": [
    "%%file Fortran/kernel.json\n",
    "{\n",
    "  \"argv\": [\n",
    "    \"python3\",\n",
    "    \"-m\",\n",
    "    \"Fortran_kernel\",\n",
    "    \"-f\",\n",
    "    \"{connection_file}\"\n",
    "  ],\n",
    "  \"display_name\": \"Fortran\",\n",
    "  \"language\": \"Fortran\"\n",
    "}"
   ]
  },
  {
   "cell_type": "code",
   "execution_count": 6,
   "metadata": {
    "ExecuteTime": {
     "end_time": "2019-04-07T16:58:52.542402Z",
     "start_time": "2019-04-07T16:58:52.429950Z"
    }
   },
   "outputs": [
    {
     "name": "stdout",
     "output_type": "stream",
     "text": [
      "Fortran/kernel.json\r\n"
     ]
    }
   ],
   "source": [
    "! ls Fortran/*"
   ]
  },
  {
   "cell_type": "code",
   "execution_count": 7,
   "metadata": {
    "ExecuteTime": {
     "end_time": "2019-04-07T16:58:57.614212Z",
     "start_time": "2019-04-07T16:58:56.432706Z"
    }
   },
   "outputs": [
    {
     "name": "stdout",
     "output_type": "stream",
     "text": [
      "[InstallKernelSpec] Installed kernelspec fortran in /usr/local/share/jupyter/kernels/fortran\r\n"
     ]
    }
   ],
   "source": [
    "!sudo -H jupyter-kernelspec install Fortran/"
   ]
  },
  {
   "cell_type": "code",
   "execution_count": 8,
   "metadata": {
    "ExecuteTime": {
     "end_time": "2019-04-07T16:59:03.835699Z",
     "start_time": "2019-04-07T16:59:03.721276Z"
    }
   },
   "outputs": [],
   "source": [
    "!rm -rf Fortran/"
   ]
  },
  {
   "cell_type": "code",
   "execution_count": 10,
   "metadata": {},
   "outputs": [
    {
     "name": "stdout",
     "output_type": "stream",
     "text": [
      "Available kernels:\r\n",
      "  fortran    /usr/local/share/jupyter/kernels/fortran\r\n",
      "  python3    /usr/local/share/jupyter/kernels/python3\r\n"
     ]
    }
   ],
   "source": [
    "# Para verificar os kernels instalados  \n",
    "! jupyter-kernelspec list"
   ]
  },
  {
   "cell_type": "markdown",
   "metadata": {},
   "source": [
    "# Instalando o kernel do C\n",
    "\n",
    "Para instalar o [kernel do C](https://github.com/brendan-rius/jupyter-c-kernel) siga os passos a seguir:\n",
    "\n",
    "### Instalação Manual \n",
    "\n",
    "Certifique-se que o seu sistemas tem o seguintes programas instalados:\n",
    "\n",
    "- gcc\n",
    "- jupyter\n",
    "- python 3\n",
    "- pip3\n",
    "\n",
    "### Instalação passo a passo\n",
    "\n",
    "Siga as instruções na sequência a seguir:\n",
    "\n",
    "\n",
    "```bash\n",
    "> git clone https://github.com/brendan-rius/jupyter-c-kernel.git\n",
    "> sudo -H pip3 install -U jupyter-c-kernel\n",
    "> cd jupyter-c-kernel\n",
    "> sudo -H jupyter-kernelspec install jupyter_c_kernel/\n",
    "> sudo mv resources /usr/local/lib/python3.5/dist-packages/.\n",
    "> sudo chown -cR root.root /usr/local/lib/python3.5/dist-packages/resources\n",
    "> jupyter-notebook. \n",
    "```\n",
    "Agora é só testar. Reinicie o jupyter notebook "
   ]
  },
  {
   "cell_type": "code",
   "execution_count": 11,
   "metadata": {
    "ExecuteTime": {
     "end_time": "2018-11-01T10:31:17.468688Z",
     "start_time": "2018-11-01T10:31:12.407565Z"
    }
   },
   "outputs": [
    {
     "name": "stdout",
     "output_type": "stream",
     "text": [
      "Collecting jupyter-c-kernel\n",
      "  Downloading https://files.pythonhosted.org/packages/bf/60/cdd13d162391b66c6b4eaabc3d5c9b8e8f0edba9d3481b20509ae04943c7/jupyter_c_kernel-1.2.2.tar.gz\n",
      "Building wheels for collected packages: jupyter-c-kernel\n",
      "  Building wheel for jupyter-c-kernel (setup.py) ... \u001b[?25ldone\n",
      "\u001b[?25h  Created wheel for jupyter-c-kernel: filename=jupyter_c_kernel-1.2.2-cp36-none-any.whl size=6617 sha256=b39980d525a3ba7d22f28fbb9e0fae373fbaa975705998f07f4d2539907decb6\n",
      "  Stored in directory: /root/.cache/pip/wheels/28/7a/94/dc4f991e5b8afdc4d89188a658c949f77881e06ee01552a777\n",
      "Successfully built jupyter-c-kernel\n",
      "Installing collected packages: jupyter-c-kernel\n",
      "Successfully installed jupyter-c-kernel-1.2.2\n"
     ]
    }
   ],
   "source": [
    "# Vamos instalar o kernel do C Manualmente\n",
    "!sudo -H pip install jupyter-c-kernel"
   ]
  },
  {
   "cell_type": "markdown",
   "metadata": {},
   "source": [
    "É necessário informar ao python onde está o kernel e para isso faremos"
   ]
  },
  {
   "cell_type": "code",
   "execution_count": 12,
   "metadata": {
    "ExecuteTime": {
     "end_time": "2018-11-01T10:31:20.354299Z",
     "start_time": "2018-11-01T10:31:20.245471Z"
    }
   },
   "outputs": [],
   "source": [
    "!mkdir -p c_kernel"
   ]
  },
  {
   "cell_type": "code",
   "execution_count": 13,
   "metadata": {
    "ExecuteTime": {
     "end_time": "2018-11-01T10:31:28.410235Z",
     "start_time": "2018-11-01T10:31:28.406340Z"
    }
   },
   "outputs": [
    {
     "name": "stdout",
     "output_type": "stream",
     "text": [
      "Writing c_kernel/kernel.json\n"
     ]
    }
   ],
   "source": [
    "%%file c_kernel/kernel.json\n",
    "{\n",
    "  \"argv\": [\n",
    "    \"python3\",\n",
    "    \"-m\",\n",
    "    \"C_kernel\",\n",
    "    \"-f\",\n",
    "    \"{connection_file}\"\n",
    "  ],\n",
    "  \"display_name\": \"C\",\n",
    "  \"language\": \"C\"\n",
    "}"
   ]
  },
  {
   "cell_type": "code",
   "execution_count": 14,
   "metadata": {
    "ExecuteTime": {
     "end_time": "2018-11-01T10:31:38.025443Z",
     "start_time": "2018-11-01T10:31:37.033931Z"
    }
   },
   "outputs": [
    {
     "name": "stdout",
     "output_type": "stream",
     "text": [
      "[InstallKernelSpec] Installed kernelspec c_kernel in /usr/local/share/jupyter/kernels/c_kernel\r\n"
     ]
    }
   ],
   "source": [
    "!sudo -H jupyter-kernelspec install c_kernel/"
   ]
  },
  {
   "cell_type": "code",
   "execution_count": 15,
   "metadata": {
    "ExecuteTime": {
     "end_time": "2018-11-01T10:31:41.661174Z",
     "start_time": "2018-11-01T10:31:41.552065Z"
    }
   },
   "outputs": [],
   "source": [
    "!rm -rf c_kernel"
   ]
  },
  {
   "cell_type": "code",
   "execution_count": 16,
   "metadata": {},
   "outputs": [
    {
     "name": "stdout",
     "output_type": "stream",
     "text": [
      "Available kernels:\r\n",
      "  c_kernel    /usr/local/share/jupyter/kernels/c_kernel\r\n",
      "  fortran     /usr/local/share/jupyter/kernels/fortran\r\n",
      "  python3     /usr/local/share/jupyter/kernels/python3\r\n"
     ]
    }
   ],
   "source": [
    "# Para verificar os kernels instalados  \n",
    "! jupyter-kernelspec list"
   ]
  },
  {
   "cell_type": "markdown",
   "metadata": {},
   "source": [
    "A forma anterior era \n",
    "\n",
    "```jupyter\n",
    "! git clone https://github.com/brendan-rius/jupyter-c-kernel.git\n",
    "```\n",
    "\n",
    "\n",
    "```jupyter\n",
    "! sudo pip3 install jupyter-c-kernel\n",
    "```\n",
    "\n",
    "\n",
    "```jupyter\n",
    "%%bash\n",
    "sudo cat <<FIM > jupyter-c-kernel/jupyter_c_kernel/kernel.json\n",
    "{\n",
    "  \"argv\": [\n",
    "    \"python3\",\n",
    "    \"-m\",\n",
    "    \"jupyter_c_kernel\",\n",
    "    \"-f\",\n",
    "    \"{connection_file}\"\n",
    "  ],\n",
    "  \"display_name\": \"C\",\n",
    "  \"language\": \"c\"\n",
    "}\n",
    "FIM\n",
    "```\n",
    "\n",
    "\n",
    "```jupyter\n",
    "! cd jupyter-c-kernel && sudo -H jupyter-kernelspec install jupyter_c_kernel/\n",
    "```\n",
    "\n",
    "\n",
    "```jupyter\n",
    "%%bash\n",
    "if [ -d /usr/local/lib/python3.5/dist-packages/ ]\n",
    "then \n",
    "   echo \"O diretório já existe e foi movido o seu conteúdo\"\n",
    "   sudo mv -f jupyter-c-kernel/resources/* /usr/local/lib/python3.5/dist-packages/resources/.\n",
    "else \n",
    "   echo \"O diretório foi movido com o seu conteúdo\"\n",
    "   sudo mv -f resources /usr/local/lib/python3.5/dist-packages/.\n",
    "fi\n",
    "```\n",
    "\n",
    "\n",
    "```jupyter\n",
    "!sudo chown -cR root.root /usr/local/lib/python3.5/dist-packages/resources\n",
    "```\n",
    "\n",
    "\n",
    "\n",
    "```jupyter\n",
    "# Se tudo ocorreu bem você já pode remover a pasta do jupyte-c-kernel\n",
    "! rm -rf jupyter-c-kernel\n",
    "```\n",
    "\n",
    "\n",
    "\n",
    "```jupyter\n",
    "# Para verificar liste o diretório\n",
    "! ls -alh /usr/local/share/jupyter/kernels/\n",
    "```\n",
    "\n",
    "```jupyter\n",
    "# Para verificar se o arquivo foi criado e o seu conteúdo\n",
    "! cat /usr/local/share/jupyter/kernels/jupyter_c_kernel/kernel.json\n",
    "```"
   ]
  },
  {
   "cell_type": "markdown",
   "metadata": {},
   "source": [
    "O kernel deve estar instalado no diretório: /usr/local/share/jupyter/kernels/c_spec"
   ]
  },
  {
   "cell_type": "code",
   "execution_count": null,
   "metadata": {
    "ExecuteTime": {
     "end_time": "2018-11-01T10:31:47.442261Z",
     "start_time": "2018-11-01T10:31:47.331228Z"
    },
    "run_control": {
     "marked": true
    }
   },
   "outputs": [],
   "source": [
    "# Para verificar liste o diretório\n",
    "! ls -alh /usr/local/share/jupyter/kernels/\n",
    "! "
   ]
  },
  {
   "cell_type": "code",
   "execution_count": null,
   "metadata": {
    "ExecuteTime": {
     "end_time": "2018-11-01T10:31:51.406714Z",
     "start_time": "2018-11-01T10:31:51.297523Z"
    }
   },
   "outputs": [],
   "source": [
    "# Para verificar se o arquivo foi criado e o seu conteúdo\n",
    "! cat /usr/local/share/jupyter/kernels/jupyter_c_kernel/kernel.json"
   ]
  },
  {
   "cell_type": "markdown",
   "metadata": {},
   "source": [
    "# Instalando os kernels do Gnuplot e do Scilab\n",
    "\n",
    "Ele é um kernel do Jupyter/IPython para o [Gnuplot](https://github.com/has2k1/gnuplot_kernel) e para o [Scilab](https://github.com/Calysto/scilab_kernel).\n",
    "\n",
    "### Instalação Manual \n",
    "\n",
    "Certifique-se que o seu sistemas tem o seguintes programas instalados:\n",
    "\n",
    "- gnuplot\n",
    "- scilab\n",
    "- jupyter\n",
    "- python 3\n",
    "- pip3\n",
    "- [metakernel](https://github.com/Calysto/metakernel)\n",
    "\n",
    "\n",
    "### Instalação passo a passo\n",
    "\n",
    "```bash\n",
    "sudo -H pip3 install --upgrade metakernel\n",
    "sudo -H pip3 install --upgrade gnuplot_kernel\n",
    "sudo -H pip3 install --upgrade scilab_kernel\n",
    "```\n",
    "\n",
    "Será necessário gera as especificações do metakernel \n",
    "\n",
    "```bash\n",
    "> mkdir metakernel_spec\n",
    "```\n",
    "crie dentro desse diretório o arquivo \"kernel.json\" com o seguinte conteúdo:\n",
    "```json\n",
    "{\n",
    "  \"argv\": [\n",
    "    \"python3\",\n",
    "    \"-m\",\n",
    "    \"metakernel_kernel\",\n",
    "    \"-f\",\n",
    "    \"{connection_file}\"\n",
    "  ],\n",
    "  \"display_name\": \"Metakernel\",\n",
    "  \"language\": \"metakernel\"\n",
    "}\n",
    "```\n",
    "\n",
    "Será necessário gera as especificações do gnuplot_kernel e para isso faça\n",
    "\n",
    "```bash\n",
    "> mkdir metakernel_spec\n",
    "> mkdir gnuplot_spec\n",
    "```\n",
    "crie dentro desse diretório o arquivo \"kernel.json\" com o seguinte conteúdo:\n",
    "```json\n",
    "{\n",
    "  \"argv\": [\n",
    "    \"python3\",\n",
    "    \"-m\",\n",
    "    \"gnuplot_kernel\",\n",
    "    \"-f\",\n",
    "    \"{connection_file}\"\n",
    "  ],\n",
    "  \"display_name\": \"Gnuplot\",\n",
    "  \"language\": \"gnuplot\"\n",
    "}\n",
    "```\n",
    "\n",
    "Agora ative os dois kernels fazendo:\n",
    "\n",
    "```bash\n",
    "> sudo -H jupyter-kernelspec install metakernel_spec/\n",
    "> sudo -H jupyter-kernelspec install gnuplot_spec/\n",
    "> jupyter-notebook. \n",
    "```\n",
    "\n",
    "O metakernel exige que se adicione o seguinte arquivo\n",
    "```bash\n",
    "# /etc/ipython/ipython_config.py\n",
    "c = get_config()\n",
    "startup = [\n",
    "   'from metakernel import register_ipython_magics',\n",
    "   'register_ipython_magics()',\n",
    "]\n",
    "c.InteractiveShellApp.exec_lines = startup\n",
    "```\n",
    "\n",
    "Agora é só testar. Reinicie o jupyter notebook \n",
    "\n",
    "Para verificar as instruções de cada kernel vá ao site do [PyPI](https://pypi.org/) no qual encontrará:\n",
    "\n",
    "- [Fortran Kernel](https://github.com/ZedThree/jupyter-fortran-kernel/)\n",
    "- [C Kernel](https://github.com/brendanrius/jupyter-c-kernel/)\n",
    "- [Bash Kernel](https://github.com/takluyver/bash_kernel)\n",
    "- [Markdown kernel](https://github.com/vatlab/markdown-kernel)\n",
    "- [Metakernel](https://github.com/Calysto/metakernel)\n",
    "    - [Gnuplot Kernel](https://github.com/has2k1/gnuplot_kernel)\n",
    "    - [Scilab Kernel](http://github.com/calsto/scilab_kernel)\n",
    "        - [Scilab2Py: Python to Scilab Bridge](https://github.com/blink1073/scilab2py)\n",
    "    - [Octave Kernel](https://github.com/Calysto/octave_kernel)\n",
    "\n",
    "\n",
    "#### Para instalar execute as células  abaixo\n",
    "\n",
    "Para realizar a instalação do kernel do gnuplot e scilab é necessário instalar o metakernel. Antes vá ao menu Kernel --> Change Kernel e veja quais são os kernels que já se  encontram instalados. \n",
    "\n",
    "Portanto siga os passos das células abaixo: "
   ]
  },
  {
   "cell_type": "code",
   "execution_count": 17,
   "metadata": {
    "ExecuteTime": {
     "end_time": "2019-07-02T13:06:16.443461Z",
     "start_time": "2019-07-02T13:04:55.408025Z"
    }
   },
   "outputs": [
    {
     "name": "stdout",
     "output_type": "stream",
     "text": [
      "Collecting metakernel\n",
      "\u001b[?25l  Downloading https://files.pythonhosted.org/packages/ad/a9/0cd74cfbc9c4aeb117bdb7fd9ff12c3890be34ef5c77932e00ef4afaca98/metakernel-0.24.3-py2.py3-none-any.whl (208kB)\n",
      "\u001b[K     |████████████████████████████████| 215kB 816kB/s eta 0:00:01\n",
      "\u001b[?25hRequirement already satisfied, skipping upgrade: ipykernel in /usr/local/lib/python3.6/dist-packages (from metakernel) (5.1.3)\n",
      "Collecting portalocker\n",
      "  Downloading https://files.pythonhosted.org/packages/91/db/7bc703c0760df726839e0699b7f78a4d8217fdc9c7fcb1b51b39c5a22a4e/portalocker-1.5.2-py2.py3-none-any.whl\n",
      "Requirement already satisfied, skipping upgrade: pexpect>=4.2 in /usr/lib/python3/dist-packages (from metakernel) (4.2.1)\n",
      "Collecting ipyparallel\n",
      "\u001b[?25l  Downloading https://files.pythonhosted.org/packages/3f/82/aaa7a357845a98d4028f27c799f0d3bb2fe55fc1247c73dc712b4ae2344c/ipyparallel-6.2.4-py2.py3-none-any.whl (198kB)\n",
      "\u001b[K     |████████████████████████████████| 204kB 4.3MB/s eta 0:00:01\n",
      "\u001b[?25hRequirement already satisfied, skipping upgrade: ipython>=5.0.0 in /usr/local/lib/python3.6/dist-packages (from ipykernel->metakernel) (7.11.1)\n",
      "Requirement already satisfied, skipping upgrade: tornado>=4.2 in /usr/local/lib/python3.6/dist-packages (from ipykernel->metakernel) (6.0.3)\n",
      "Requirement already satisfied, skipping upgrade: traitlets>=4.1.0 in /usr/local/lib/python3.6/dist-packages (from ipykernel->metakernel) (4.3.3)\n",
      "Requirement already satisfied, skipping upgrade: jupyter-client in /usr/local/lib/python3.6/dist-packages (from ipykernel->metakernel) (5.3.1)\n",
      "Requirement already satisfied, skipping upgrade: ipython-genutils in /usr/local/lib/python3.6/dist-packages (from ipyparallel->metakernel) (0.2.0)\n",
      "Requirement already satisfied, skipping upgrade: decorator in /usr/local/lib/python3.6/dist-packages (from ipyparallel->metakernel) (4.4.0)\n",
      "Requirement already satisfied, skipping upgrade: python-dateutil>=2.1 in /usr/local/lib/python3.6/dist-packages (from ipyparallel->metakernel) (2.8.0)\n",
      "Requirement already satisfied, skipping upgrade: pyzmq>=13 in /usr/local/lib/python3.6/dist-packages (from ipyparallel->metakernel) (18.1.0)\n",
      "Requirement already satisfied, skipping upgrade: prompt-toolkit!=3.0.0,!=3.0.1,<3.1.0,>=2.0.0 in /usr/local/lib/python3.6/dist-packages (from ipython>=5.0.0->ipykernel->metakernel) (2.0.9)\n",
      "Requirement already satisfied, skipping upgrade: jedi>=0.10 in /usr/local/lib/python3.6/dist-packages (from ipython>=5.0.0->ipykernel->metakernel) (0.15.1)\n",
      "Requirement already satisfied, skipping upgrade: backcall in /usr/local/lib/python3.6/dist-packages (from ipython>=5.0.0->ipykernel->metakernel) (0.1.0)\n",
      "Requirement already satisfied, skipping upgrade: setuptools>=18.5 in /usr/local/lib/python3.6/dist-packages (from ipython>=5.0.0->ipykernel->metakernel) (44.0.0)\n",
      "Requirement already satisfied, skipping upgrade: pygments in /usr/local/lib/python3.6/dist-packages (from ipython>=5.0.0->ipykernel->metakernel) (2.4.2)\n",
      "Requirement already satisfied, skipping upgrade: pickleshare in /usr/local/lib/python3.6/dist-packages (from ipython>=5.0.0->ipykernel->metakernel) (0.7.5)\n",
      "Requirement already satisfied, skipping upgrade: six in /usr/local/lib/python3.6/dist-packages (from traitlets>=4.1.0->ipykernel->metakernel) (1.12.0)\n",
      "Requirement already satisfied, skipping upgrade: jupyter-core in /usr/local/lib/python3.6/dist-packages (from jupyter-client->ipykernel->metakernel) (4.5.0)\n",
      "Requirement already satisfied, skipping upgrade: wcwidth in /usr/local/lib/python3.6/dist-packages (from prompt-toolkit!=3.0.0,!=3.0.1,<3.1.0,>=2.0.0->ipython>=5.0.0->ipykernel->metakernel) (0.1.7)\n",
      "Requirement already satisfied, skipping upgrade: parso>=0.5.0 in /usr/local/lib/python3.6/dist-packages (from jedi>=0.10->ipython>=5.0.0->ipykernel->metakernel) (0.5.1)\n",
      "Installing collected packages: portalocker, ipyparallel, metakernel\n",
      "Successfully installed ipyparallel-6.2.4 metakernel-0.24.3 portalocker-1.5.2\n"
     ]
    }
   ],
   "source": [
    "!sudo -H pip3 install --upgrade metakernel"
   ]
  },
  {
   "cell_type": "code",
   "execution_count": 18,
   "metadata": {
    "ExecuteTime": {
     "end_time": "2019-07-02T13:06:35.509824Z",
     "start_time": "2019-07-02T13:06:35.390830Z"
    }
   },
   "outputs": [],
   "source": [
    "! sudo mkdir -p /etc/ipython"
   ]
  },
  {
   "cell_type": "code",
   "execution_count": 19,
   "metadata": {
    "ExecuteTime": {
     "end_time": "2019-07-02T13:06:37.919772Z",
     "start_time": "2019-07-02T13:06:37.914293Z"
    }
   },
   "outputs": [
    {
     "name": "stdout",
     "output_type": "stream",
     "text": [
      "Writing ipython_config.py\n"
     ]
    }
   ],
   "source": [
    "%%file ipython_config.py\n",
    "c = get_config()\n",
    "startup = [\n",
    "   'from metakernel import register_ipython_magics',\n",
    "   'register_ipython_magics()',\n",
    "]\n",
    "c.InteractiveShellApp.exec_lines = startup"
   ]
  },
  {
   "cell_type": "code",
   "execution_count": 20,
   "metadata": {
    "ExecuteTime": {
     "end_time": "2019-07-02T13:06:39.160525Z",
     "start_time": "2019-07-02T13:06:39.039102Z"
    }
   },
   "outputs": [],
   "source": [
    "!sudo mv ipython_config.py /etc/ipython/."
   ]
  },
  {
   "cell_type": "code",
   "execution_count": 21,
   "metadata": {
    "ExecuteTime": {
     "end_time": "2019-07-02T13:06:40.089420Z",
     "start_time": "2019-07-02T13:06:39.973877Z"
    }
   },
   "outputs": [
    {
     "name": "stdout",
     "output_type": "stream",
     "text": [
      "total 20K\r\n",
      "drwxr-xr-x   2 root     root     4.0K Jan  3 12:14 .\r\n",
      "drwxr-xr-x 169 root     root      12K Jan  3 12:14 ..\r\n",
      "-rw-rw-r--   1 salviano salviano  159 Jan  3 12:14 ipython_config.py\r\n"
     ]
    }
   ],
   "source": [
    "!ls -alh /etc/ipython/"
   ]
  },
  {
   "cell_type": "code",
   "execution_count": 22,
   "metadata": {
    "ExecuteTime": {
     "end_time": "2019-07-02T13:06:43.755019Z",
     "start_time": "2019-07-02T13:06:43.632660Z"
    }
   },
   "outputs": [
    {
     "name": "stdout",
     "output_type": "stream",
     "text": [
      "changed ownership of '/etc/ipython/ipython_config.py' from salviano:salviano to root:root\r\n"
     ]
    }
   ],
   "source": [
    "! sudo chown -c root.root /etc/ipython/ipython_config.py"
   ]
  },
  {
   "cell_type": "code",
   "execution_count": 23,
   "metadata": {
    "ExecuteTime": {
     "end_time": "2019-07-02T13:06:57.318502Z",
     "start_time": "2019-07-02T13:06:55.160304Z"
    },
    "scrolled": true
   },
   "outputs": [
    {
     "name": "stdout",
     "output_type": "stream",
     "text": [
      "Collecting gnuplot_kernel\n",
      "  Downloading https://files.pythonhosted.org/packages/6a/6c/ab2d130197d1affebb73da6bc9fab1533db2c6eb6d6a8590775e9a69777a/gnuplot_kernel-0.3.0-py2.py3-none-any.whl\n",
      "Requirement already satisfied, skipping upgrade: notebook>=5.4.0 in /usr/local/lib/python3.6/dist-packages (from gnuplot_kernel) (6.0.2)\n",
      "Requirement already satisfied, skipping upgrade: metakernel>=0.20.14 in /usr/local/lib/python3.6/dist-packages (from gnuplot_kernel) (0.24.3)\n",
      "Collecting jupyter-client>=5.3.4\n",
      "  Using cached https://files.pythonhosted.org/packages/13/81/fe0eee1bcf949851a120254b1f530ae1e01bdde2d3ab9710c6ff81525061/jupyter_client-5.3.4-py2.py3-none-any.whl\n",
      "Requirement already satisfied, skipping upgrade: tornado>=5.0 in /usr/local/lib/python3.6/dist-packages (from notebook>=5.4.0->gnuplot_kernel) (6.0.3)\n",
      "Requirement already satisfied, skipping upgrade: Send2Trash in /usr/local/lib/python3.6/dist-packages (from notebook>=5.4.0->gnuplot_kernel) (1.5.0)\n",
      "Requirement already satisfied, skipping upgrade: terminado>=0.8.1 in /usr/local/lib/python3.6/dist-packages (from notebook>=5.4.0->gnuplot_kernel) (0.8.2)\n",
      "Requirement already satisfied, skipping upgrade: jinja2 in /usr/local/lib/python3.6/dist-packages (from notebook>=5.4.0->gnuplot_kernel) (2.10.1)\n",
      "Requirement already satisfied, skipping upgrade: ipython-genutils in /usr/local/lib/python3.6/dist-packages (from notebook>=5.4.0->gnuplot_kernel) (0.2.0)\n",
      "Requirement already satisfied, skipping upgrade: nbconvert in /usr/local/lib/python3.6/dist-packages (from notebook>=5.4.0->gnuplot_kernel) (5.6.0)\n",
      "Requirement already satisfied, skipping upgrade: pyzmq>=17 in /usr/local/lib/python3.6/dist-packages (from notebook>=5.4.0->gnuplot_kernel) (18.1.0)\n",
      "Requirement already satisfied, skipping upgrade: prometheus-client in /usr/local/lib/python3.6/dist-packages (from notebook>=5.4.0->gnuplot_kernel) (0.7.1)\n",
      "Requirement already satisfied, skipping upgrade: nbformat in /usr/local/lib/python3.6/dist-packages (from notebook>=5.4.0->gnuplot_kernel) (4.4.0)\n",
      "Requirement already satisfied, skipping upgrade: ipykernel in /usr/local/lib/python3.6/dist-packages (from notebook>=5.4.0->gnuplot_kernel) (5.1.3)\n",
      "Requirement already satisfied, skipping upgrade: traitlets>=4.2.1 in /usr/local/lib/python3.6/dist-packages (from notebook>=5.4.0->gnuplot_kernel) (4.3.3)\n",
      "Collecting jupyter-core>=4.6.0\n",
      "  Using cached https://files.pythonhosted.org/packages/fb/82/86437f661875e30682e99d04c13ba6c216f86f5f6ca6ef212d3ee8b6ca11/jupyter_core-4.6.1-py2.py3-none-any.whl\n",
      "Requirement already satisfied, skipping upgrade: pexpect>=4.2 in /usr/lib/python3/dist-packages (from metakernel>=0.20.14->gnuplot_kernel) (4.2.1)\n",
      "Requirement already satisfied, skipping upgrade: ipyparallel in /usr/local/lib/python3.6/dist-packages (from metakernel>=0.20.14->gnuplot_kernel) (6.2.4)\n",
      "Requirement already satisfied, skipping upgrade: portalocker in /usr/local/lib/python3.6/dist-packages (from metakernel>=0.20.14->gnuplot_kernel) (1.5.2)\n",
      "Requirement already satisfied, skipping upgrade: python-dateutil>=2.1 in /usr/local/lib/python3.6/dist-packages (from jupyter-client>=5.3.4->notebook>=5.4.0->gnuplot_kernel) (2.8.0)\n",
      "Requirement already satisfied, skipping upgrade: ptyprocess; os_name != \"nt\" in /usr/local/lib/python3.6/dist-packages (from terminado>=0.8.1->notebook>=5.4.0->gnuplot_kernel) (0.6.0)\n",
      "Requirement already satisfied, skipping upgrade: MarkupSafe>=0.23 in /usr/local/lib/python3.6/dist-packages (from jinja2->notebook>=5.4.0->gnuplot_kernel) (1.1.1)\n",
      "Requirement already satisfied, skipping upgrade: testpath in /usr/local/lib/python3.6/dist-packages (from nbconvert->notebook>=5.4.0->gnuplot_kernel) (0.4.2)\n",
      "Requirement already satisfied, skipping upgrade: mistune<2,>=0.8.1 in /usr/local/lib/python3.6/dist-packages (from nbconvert->notebook>=5.4.0->gnuplot_kernel) (0.8.4)\n",
      "Requirement already satisfied, skipping upgrade: bleach in /usr/local/lib/python3.6/dist-packages (from nbconvert->notebook>=5.4.0->gnuplot_kernel) (3.1.0)\n",
      "Requirement already satisfied, skipping upgrade: defusedxml in /usr/local/lib/python3.6/dist-packages (from nbconvert->notebook>=5.4.0->gnuplot_kernel) (0.6.0)\n",
      "Requirement already satisfied, skipping upgrade: pandocfilters>=1.4.1 in /usr/local/lib/python3.6/dist-packages (from nbconvert->notebook>=5.4.0->gnuplot_kernel) (1.4.2)\n",
      "Requirement already satisfied, skipping upgrade: entrypoints>=0.2.2 in /usr/local/lib/python3.6/dist-packages (from nbconvert->notebook>=5.4.0->gnuplot_kernel) (0.3)\n",
      "Requirement already satisfied, skipping upgrade: pygments in /usr/local/lib/python3.6/dist-packages (from nbconvert->notebook>=5.4.0->gnuplot_kernel) (2.4.2)\n",
      "Requirement already satisfied, skipping upgrade: jsonschema!=2.5.0,>=2.4 in /usr/local/lib/python3.6/dist-packages (from nbformat->notebook>=5.4.0->gnuplot_kernel) (3.0.2)\n",
      "Requirement already satisfied, skipping upgrade: ipython>=5.0.0 in /usr/local/lib/python3.6/dist-packages (from ipykernel->notebook>=5.4.0->gnuplot_kernel) (7.11.1)\n",
      "Requirement already satisfied, skipping upgrade: decorator in /usr/local/lib/python3.6/dist-packages (from traitlets>=4.2.1->notebook>=5.4.0->gnuplot_kernel) (4.4.0)\n",
      "Requirement already satisfied, skipping upgrade: six in /usr/local/lib/python3.6/dist-packages (from traitlets>=4.2.1->notebook>=5.4.0->gnuplot_kernel) (1.12.0)\n",
      "Requirement already satisfied, skipping upgrade: webencodings in /usr/local/lib/python3.6/dist-packages (from bleach->nbconvert->notebook>=5.4.0->gnuplot_kernel) (0.5.1)\n",
      "Requirement already satisfied, skipping upgrade: pyrsistent>=0.14.0 in /usr/local/lib/python3.6/dist-packages (from jsonschema!=2.5.0,>=2.4->nbformat->notebook>=5.4.0->gnuplot_kernel) (0.15.4)\n",
      "Requirement already satisfied, skipping upgrade: attrs>=17.4.0 in /usr/local/lib/python3.6/dist-packages (from jsonschema!=2.5.0,>=2.4->nbformat->notebook>=5.4.0->gnuplot_kernel) (19.1.0)\n",
      "Requirement already satisfied, skipping upgrade: setuptools in /usr/local/lib/python3.6/dist-packages (from jsonschema!=2.5.0,>=2.4->nbformat->notebook>=5.4.0->gnuplot_kernel) (44.0.0)\n",
      "Requirement already satisfied, skipping upgrade: pickleshare in /usr/local/lib/python3.6/dist-packages (from ipython>=5.0.0->ipykernel->notebook>=5.4.0->gnuplot_kernel) (0.7.5)\n",
      "Requirement already satisfied, skipping upgrade: prompt-toolkit!=3.0.0,!=3.0.1,<3.1.0,>=2.0.0 in /usr/local/lib/python3.6/dist-packages (from ipython>=5.0.0->ipykernel->notebook>=5.4.0->gnuplot_kernel) (2.0.9)\n",
      "Requirement already satisfied, skipping upgrade: jedi>=0.10 in /usr/local/lib/python3.6/dist-packages (from ipython>=5.0.0->ipykernel->notebook>=5.4.0->gnuplot_kernel) (0.15.1)\n",
      "Requirement already satisfied, skipping upgrade: backcall in /usr/local/lib/python3.6/dist-packages (from ipython>=5.0.0->ipykernel->notebook>=5.4.0->gnuplot_kernel) (0.1.0)\n",
      "Requirement already satisfied, skipping upgrade: wcwidth in /usr/local/lib/python3.6/dist-packages (from prompt-toolkit!=3.0.0,!=3.0.1,<3.1.0,>=2.0.0->ipython>=5.0.0->ipykernel->notebook>=5.4.0->gnuplot_kernel) (0.1.7)\n",
      "Requirement already satisfied, skipping upgrade: parso>=0.5.0 in /usr/local/lib/python3.6/dist-packages (from jedi>=0.10->ipython>=5.0.0->ipykernel->notebook>=5.4.0->gnuplot_kernel) (0.5.1)\n",
      "\u001b[31mERROR: jupyter-math 0.0.4 has requirement ipykernel==5.1.2, but you'll have ipykernel 5.1.3 which is incompatible.\u001b[0m\n",
      "\u001b[31mERROR: jupyter-math 0.0.4 has requirement ipython==7.8.0, but you'll have ipython 7.11.1 which is incompatible.\u001b[0m\n",
      "\u001b[31mERROR: jupyter-math 0.0.4 has requirement jupyter-client==5.3.1, but you'll have jupyter-client 5.3.4 which is incompatible.\u001b[0m\n",
      "\u001b[31mERROR: jupyter-math 0.0.4 has requirement jupyter-core==4.5.0, but you'll have jupyter-core 4.6.1 which is incompatible.\u001b[0m\n",
      "\u001b[31mERROR: jupyter-math 0.0.4 has requirement notebook==6.0.1, but you'll have notebook 6.0.2 which is incompatible.\u001b[0m\n",
      "\u001b[31mERROR: jupyter-math 0.0.4 has requirement traitlets==4.3.2, but you'll have traitlets 4.3.3 which is incompatible.\u001b[0m\n",
      "Installing collected packages: gnuplot-kernel, jupyter-core, jupyter-client\n",
      "  Found existing installation: jupyter-core 4.5.0\n",
      "    Uninstalling jupyter-core-4.5.0:\n",
      "      Successfully uninstalled jupyter-core-4.5.0\n",
      "  Found existing installation: jupyter-client 5.3.1\n",
      "    Uninstalling jupyter-client-5.3.1:\n",
      "      Successfully uninstalled jupyter-client-5.3.1\n"
     ]
    },
    {
     "name": "stdout",
     "output_type": "stream",
     "text": [
      "Successfully installed gnuplot-kernel-0.3.0 jupyter-client-5.3.4 jupyter-core-4.6.1\r\n"
     ]
    }
   ],
   "source": [
    "!sudo -H pip3 install --upgrade gnuplot_kernel"
   ]
  },
  {
   "cell_type": "code",
   "execution_count": 24,
   "metadata": {
    "ExecuteTime": {
     "end_time": "2019-07-02T13:07:09.215213Z",
     "start_time": "2019-07-02T13:07:07.153033Z"
    }
   },
   "outputs": [
    {
     "name": "stdout",
     "output_type": "stream",
     "text": [
      "Collecting scilab_kernel\n",
      "  Downloading https://files.pythonhosted.org/packages/48/0d/838cc26449127988d072242c4a94eab323492f5bbd9c2553adf53eedc414/scilab_kernel-0.9.10-py2.py3-none-any.whl\n",
      "Requirement already satisfied, skipping upgrade: metakernel>=0.23.0 in /usr/local/lib/python3.6/dist-packages (from scilab_kernel) (0.24.3)\n",
      "Requirement already satisfied, skipping upgrade: jupyter-client>=4.3.0 in /usr/local/lib/python3.6/dist-packages (from scilab_kernel) (5.3.4)\n",
      "Requirement already satisfied, skipping upgrade: ipykernel in /usr/local/lib/python3.6/dist-packages (from scilab_kernel) (5.1.3)\n",
      "Requirement already satisfied, skipping upgrade: portalocker in /usr/local/lib/python3.6/dist-packages (from metakernel>=0.23.0->scilab_kernel) (1.5.2)\n",
      "Requirement already satisfied, skipping upgrade: pexpect>=4.2 in /usr/lib/python3/dist-packages (from metakernel>=0.23.0->scilab_kernel) (4.2.1)\n",
      "Requirement already satisfied, skipping upgrade: ipyparallel in /usr/local/lib/python3.6/dist-packages (from metakernel>=0.23.0->scilab_kernel) (6.2.4)\n",
      "Requirement already satisfied, skipping upgrade: traitlets in /usr/local/lib/python3.6/dist-packages (from jupyter-client>=4.3.0->scilab_kernel) (4.3.3)\n",
      "Requirement already satisfied, skipping upgrade: pyzmq>=13 in /usr/local/lib/python3.6/dist-packages (from jupyter-client>=4.3.0->scilab_kernel) (18.1.0)\n",
      "Requirement already satisfied, skipping upgrade: jupyter-core>=4.6.0 in /usr/local/lib/python3.6/dist-packages (from jupyter-client>=4.3.0->scilab_kernel) (4.6.1)\n",
      "Requirement already satisfied, skipping upgrade: tornado>=4.1 in /usr/local/lib/python3.6/dist-packages (from jupyter-client>=4.3.0->scilab_kernel) (6.0.3)\n",
      "Requirement already satisfied, skipping upgrade: python-dateutil>=2.1 in /usr/local/lib/python3.6/dist-packages (from jupyter-client>=4.3.0->scilab_kernel) (2.8.0)\n",
      "Requirement already satisfied, skipping upgrade: ipython>=5.0.0 in /usr/local/lib/python3.6/dist-packages (from ipykernel->scilab_kernel) (7.11.1)\n",
      "Requirement already satisfied, skipping upgrade: decorator in /usr/local/lib/python3.6/dist-packages (from ipyparallel->metakernel>=0.23.0->scilab_kernel) (4.4.0)\n",
      "Requirement already satisfied, skipping upgrade: ipython-genutils in /usr/local/lib/python3.6/dist-packages (from ipyparallel->metakernel>=0.23.0->scilab_kernel) (0.2.0)\n",
      "Requirement already satisfied, skipping upgrade: six in /usr/local/lib/python3.6/dist-packages (from traitlets->jupyter-client>=4.3.0->scilab_kernel) (1.12.0)\n",
      "Requirement already satisfied, skipping upgrade: prompt-toolkit!=3.0.0,!=3.0.1,<3.1.0,>=2.0.0 in /usr/local/lib/python3.6/dist-packages (from ipython>=5.0.0->ipykernel->scilab_kernel) (2.0.9)\n",
      "Requirement already satisfied, skipping upgrade: pickleshare in /usr/local/lib/python3.6/dist-packages (from ipython>=5.0.0->ipykernel->scilab_kernel) (0.7.5)\n",
      "Requirement already satisfied, skipping upgrade: backcall in /usr/local/lib/python3.6/dist-packages (from ipython>=5.0.0->ipykernel->scilab_kernel) (0.1.0)\n",
      "Requirement already satisfied, skipping upgrade: pygments in /usr/local/lib/python3.6/dist-packages (from ipython>=5.0.0->ipykernel->scilab_kernel) (2.4.2)\n",
      "Requirement already satisfied, skipping upgrade: setuptools>=18.5 in /usr/local/lib/python3.6/dist-packages (from ipython>=5.0.0->ipykernel->scilab_kernel) (44.0.0)\n",
      "Requirement already satisfied, skipping upgrade: jedi>=0.10 in /usr/local/lib/python3.6/dist-packages (from ipython>=5.0.0->ipykernel->scilab_kernel) (0.15.1)\n",
      "Requirement already satisfied, skipping upgrade: wcwidth in /usr/local/lib/python3.6/dist-packages (from prompt-toolkit!=3.0.0,!=3.0.1,<3.1.0,>=2.0.0->ipython>=5.0.0->ipykernel->scilab_kernel) (0.1.7)\n",
      "Requirement already satisfied, skipping upgrade: parso>=0.5.0 in /usr/local/lib/python3.6/dist-packages (from jedi>=0.10->ipython>=5.0.0->ipykernel->scilab_kernel) (0.5.1)\n",
      "Installing collected packages: scilab-kernel\n",
      "Successfully installed scilab-kernel-0.9.10\n"
     ]
    }
   ],
   "source": [
    "!sudo -H pip3 install --upgrade scilab_kernel"
   ]
  },
  {
   "cell_type": "code",
   "execution_count": 23,
   "metadata": {},
   "outputs": [
    {
     "name": "stdout",
     "output_type": "stream",
     "text": [
      "[InstallKernelSpec] Removing existing kernelspec in /usr/local/share/jupyter/kernels/scilab\r\n",
      "[InstallKernelSpec] Installed kernelspec scilab in /usr/local/share/jupyter/kernels/scilab\r\n"
     ]
    }
   ],
   "source": [
    "!sudo -H python3 -m scilab_kernel install"
   ]
  },
  {
   "cell_type": "code",
   "execution_count": 25,
   "metadata": {
    "ExecuteTime": {
     "end_time": "2018-11-01T11:51:29.335386Z",
     "start_time": "2018-11-01T11:51:24.516241Z"
    }
   },
   "outputs": [
    {
     "name": "stdout",
     "output_type": "stream",
     "text": [
      "Collecting octave_kernel\n",
      "  Downloading https://files.pythonhosted.org/packages/01/c4/9bab59b3b3b5ab9a52cef26644c070429a61958ba8fc0627c6bde3168883/octave_kernel-0.31.0-py3-none-any.whl\n",
      "Requirement already satisfied, skipping upgrade: metakernel>=0.24.0 in /usr/local/lib/python3.6/dist-packages (from octave_kernel) (0.24.3)\n",
      "Requirement already satisfied, skipping upgrade: jupyter-client>=4.3.0 in /usr/local/lib/python3.6/dist-packages (from octave_kernel) (5.3.4)\n",
      "Requirement already satisfied, skipping upgrade: ipykernel in /usr/local/lib/python3.6/dist-packages (from octave_kernel) (5.1.3)\n",
      "Requirement already satisfied, skipping upgrade: portalocker in /usr/local/lib/python3.6/dist-packages (from metakernel>=0.24.0->octave_kernel) (1.5.2)\n",
      "Requirement already satisfied, skipping upgrade: ipyparallel in /usr/local/lib/python3.6/dist-packages (from metakernel>=0.24.0->octave_kernel) (6.2.4)\n",
      "Requirement already satisfied, skipping upgrade: pexpect>=4.2 in /usr/lib/python3/dist-packages (from metakernel>=0.24.0->octave_kernel) (4.2.1)\n",
      "Requirement already satisfied, skipping upgrade: python-dateutil>=2.1 in /usr/local/lib/python3.6/dist-packages (from jupyter-client>=4.3.0->octave_kernel) (2.8.0)\n",
      "Requirement already satisfied, skipping upgrade: jupyter-core>=4.6.0 in /usr/local/lib/python3.6/dist-packages (from jupyter-client>=4.3.0->octave_kernel) (4.6.1)\n",
      "Requirement already satisfied, skipping upgrade: traitlets in /usr/local/lib/python3.6/dist-packages (from jupyter-client>=4.3.0->octave_kernel) (4.3.3)\n",
      "Requirement already satisfied, skipping upgrade: tornado>=4.1 in /usr/local/lib/python3.6/dist-packages (from jupyter-client>=4.3.0->octave_kernel) (6.0.3)\n",
      "Requirement already satisfied, skipping upgrade: pyzmq>=13 in /usr/local/lib/python3.6/dist-packages (from jupyter-client>=4.3.0->octave_kernel) (18.1.0)\n",
      "Requirement already satisfied, skipping upgrade: ipython>=5.0.0 in /usr/local/lib/python3.6/dist-packages (from ipykernel->octave_kernel) (7.11.1)\n",
      "Requirement already satisfied, skipping upgrade: decorator in /usr/local/lib/python3.6/dist-packages (from ipyparallel->metakernel>=0.24.0->octave_kernel) (4.4.0)\n",
      "Requirement already satisfied, skipping upgrade: ipython-genutils in /usr/local/lib/python3.6/dist-packages (from ipyparallel->metakernel>=0.24.0->octave_kernel) (0.2.0)\n",
      "Requirement already satisfied, skipping upgrade: six>=1.5 in /usr/local/lib/python3.6/dist-packages (from python-dateutil>=2.1->jupyter-client>=4.3.0->octave_kernel) (1.12.0)\n",
      "Requirement already satisfied, skipping upgrade: prompt-toolkit!=3.0.0,!=3.0.1,<3.1.0,>=2.0.0 in /usr/local/lib/python3.6/dist-packages (from ipython>=5.0.0->ipykernel->octave_kernel) (2.0.9)\n",
      "Requirement already satisfied, skipping upgrade: backcall in /usr/local/lib/python3.6/dist-packages (from ipython>=5.0.0->ipykernel->octave_kernel) (0.1.0)\n",
      "Requirement already satisfied, skipping upgrade: pickleshare in /usr/local/lib/python3.6/dist-packages (from ipython>=5.0.0->ipykernel->octave_kernel) (0.7.5)\n",
      "Requirement already satisfied, skipping upgrade: pygments in /usr/local/lib/python3.6/dist-packages (from ipython>=5.0.0->ipykernel->octave_kernel) (2.4.2)\n",
      "Requirement already satisfied, skipping upgrade: jedi>=0.10 in /usr/local/lib/python3.6/dist-packages (from ipython>=5.0.0->ipykernel->octave_kernel) (0.15.1)\n",
      "Requirement already satisfied, skipping upgrade: setuptools>=18.5 in /usr/local/lib/python3.6/dist-packages (from ipython>=5.0.0->ipykernel->octave_kernel) (44.0.0)\n",
      "Requirement already satisfied, skipping upgrade: wcwidth in /usr/local/lib/python3.6/dist-packages (from prompt-toolkit!=3.0.0,!=3.0.1,<3.1.0,>=2.0.0->ipython>=5.0.0->ipykernel->octave_kernel) (0.1.7)\n",
      "Requirement already satisfied, skipping upgrade: parso>=0.5.0 in /usr/local/lib/python3.6/dist-packages (from jedi>=0.10->ipython>=5.0.0->ipykernel->octave_kernel) (0.5.1)\n",
      "Installing collected packages: octave-kernel\n",
      "Successfully installed octave-kernel-0.31.0\n"
     ]
    }
   ],
   "source": [
    "! sudo -H pip install -U octave_kernel"
   ]
  },
  {
   "cell_type": "code",
   "execution_count": 27,
   "metadata": {
    "ExecuteTime": {
     "end_time": "2018-11-01T11:51:36.285341Z",
     "start_time": "2018-11-01T11:51:35.136060Z"
    }
   },
   "outputs": [
    {
     "name": "stdout",
     "output_type": "stream",
     "text": [
      "[InstallKernelSpec] Removing existing kernelspec in /usr/local/share/jupyter/kernels/octave\r\n",
      "[InstallKernelSpec] Installed kernelspec octave in /usr/local/share/jupyter/kernels/octave\r\n"
     ]
    }
   ],
   "source": [
    "! sudo -H python3 -m octave_kernel install"
   ]
  },
  {
   "cell_type": "code",
   "execution_count": 28,
   "metadata": {},
   "outputs": [
    {
     "name": "stdout",
     "output_type": "stream",
     "text": [
      "Available kernels:\r\n",
      "  c_kernel    /usr/local/share/jupyter/kernels/c_kernel\r\n",
      "  fortran     /usr/local/share/jupyter/kernels/fortran\r\n",
      "  octave      /usr/local/share/jupyter/kernels/octave\r\n",
      "  python3     /usr/local/share/jupyter/kernels/python3\r\n",
      "  scilab      /usr/local/share/jupyter/kernels/scilab\r\n"
     ]
    }
   ],
   "source": [
    "# Para verificar os kernels instalados  \n",
    "! jupyter-kernelspec list"
   ]
  },
  {
   "cell_type": "code",
   "execution_count": 29,
   "metadata": {
    "ExecuteTime": {
     "end_time": "2019-07-02T13:07:57.554402Z",
     "start_time": "2019-07-02T13:07:57.419271Z"
    }
   },
   "outputs": [],
   "source": [
    "!mkdir -p metakernel_spec"
   ]
  },
  {
   "cell_type": "code",
   "execution_count": 30,
   "metadata": {
    "ExecuteTime": {
     "end_time": "2019-07-02T13:07:58.458733Z",
     "start_time": "2019-07-02T13:07:58.454584Z"
    }
   },
   "outputs": [
    {
     "name": "stdout",
     "output_type": "stream",
     "text": [
      "Writing metakernel_spec/kernel.json\n"
     ]
    }
   ],
   "source": [
    "%%file metakernel_spec/kernel.json\n",
    "{\n",
    "  \"argv\": [\n",
    "    \"python3\",\n",
    "    \"-m\",\n",
    "    \"metakernel_kernel\",\n",
    "    \"-f\",\n",
    "    \"{connection_file}\"\n",
    "  ],\n",
    "  \"display_name\": \"Metakernel\",\n",
    "  \"language\": \"Metakernel\"\n",
    "}\n",
    "\n",
    "!sudo -H jupyter-kernelspec install metakernel_spec/"
   ]
  },
  {
   "cell_type": "code",
   "execution_count": 31,
   "metadata": {
    "ExecuteTime": {
     "end_time": "2019-07-02T13:08:01.170487Z",
     "start_time": "2019-07-02T13:08:01.054052Z"
    }
   },
   "outputs": [],
   "source": [
    "!rm -rf metakernel_spec"
   ]
  },
  {
   "cell_type": "code",
   "execution_count": 32,
   "metadata": {
    "ExecuteTime": {
     "end_time": "2019-07-02T13:08:02.126037Z",
     "start_time": "2019-07-02T13:08:02.012746Z"
    }
   },
   "outputs": [],
   "source": [
    "!mkdir -p gnuplot_spec"
   ]
  },
  {
   "cell_type": "code",
   "execution_count": 33,
   "metadata": {
    "ExecuteTime": {
     "end_time": "2019-07-02T13:08:05.825643Z",
     "start_time": "2019-07-02T13:08:05.820309Z"
    }
   },
   "outputs": [
    {
     "name": "stdout",
     "output_type": "stream",
     "text": [
      "Writing gnuplot_spec/kernel.json\n"
     ]
    }
   ],
   "source": [
    "%%file gnuplot_spec/kernel.json\n",
    "{\n",
    "  \"argv\": [\n",
    "    \"python3\",\n",
    "    \"-m\",\n",
    "    \"gnuplot_kernel\",\n",
    "    \"-f\",\n",
    "    \"{connection_file}\"\n",
    "  ],\n",
    "  \"display_name\": \"Gnuplot\",\n",
    "  \"language\": \"Gnuplot\"\n",
    "}"
   ]
  },
  {
   "cell_type": "code",
   "execution_count": 34,
   "metadata": {
    "ExecuteTime": {
     "end_time": "2019-07-02T13:08:09.842656Z",
     "start_time": "2019-07-02T13:08:09.728747Z"
    }
   },
   "outputs": [
    {
     "name": "stdout",
     "output_type": "stream",
     "text": [
      "{\r\n",
      "  \"argv\": [\r\n",
      "    \"python3\",\r\n",
      "    \"-m\",\r\n",
      "    \"gnuplot_kernel\",\r\n",
      "    \"-f\",\r\n",
      "    \"{connection_file}\"\r\n",
      "  ],\r\n",
      "  \"display_name\": \"Gnuplot\",\r\n",
      "  \"language\": \"Gnuplot\"\r\n",
      "}\r\n"
     ]
    }
   ],
   "source": [
    "!cat gnuplot_spec/kernel.json"
   ]
  },
  {
   "cell_type": "code",
   "execution_count": 35,
   "metadata": {
    "ExecuteTime": {
     "end_time": "2018-11-01T10:34:34.951266Z",
     "start_time": "2018-11-01T10:34:34.494595Z"
    }
   },
   "outputs": [
    {
     "name": "stdout",
     "output_type": "stream",
     "text": [
      "[InstallKernelSpec] Installed kernelspec gnuplot_spec in /usr/local/share/jupyter/kernels/gnuplot_spec\r\n"
     ]
    }
   ],
   "source": [
    "!sudo -H jupyter-kernelspec install gnuplot_spec/"
   ]
  },
  {
   "cell_type": "code",
   "execution_count": 36,
   "metadata": {
    "ExecuteTime": {
     "end_time": "2018-11-01T10:34:38.559492Z",
     "start_time": "2018-11-01T10:34:38.450371Z"
    }
   },
   "outputs": [],
   "source": [
    "!rm -rf gnuplot_spec"
   ]
  },
  {
   "cell_type": "code",
   "execution_count": 37,
   "metadata": {},
   "outputs": [
    {
     "name": "stdout",
     "output_type": "stream",
     "text": [
      "Available kernels:\r\n",
      "  c_kernel        /usr/local/share/jupyter/kernels/c_kernel\r\n",
      "  fortran         /usr/local/share/jupyter/kernels/fortran\r\n",
      "  gnuplot_spec    /usr/local/share/jupyter/kernels/gnuplot_spec\r\n",
      "  octave          /usr/local/share/jupyter/kernels/octave\r\n",
      "  python3         /usr/local/share/jupyter/kernels/python3\r\n",
      "  scilab          /usr/local/share/jupyter/kernels/scilab\r\n"
     ]
    }
   ],
   "source": [
    "# Para verificar os kernels instalados  \n",
    "! jupyter-kernelspec list"
   ]
  },
  {
   "cell_type": "code",
   "execution_count": 34,
   "metadata": {
    "ExecuteTime": {
     "end_time": "2018-11-01T10:34:43.286598Z",
     "start_time": "2018-11-01T10:34:43.175811Z"
    }
   },
   "outputs": [],
   "source": [
    "!mkdir -p scilab"
   ]
  },
  {
   "cell_type": "code",
   "execution_count": 35,
   "metadata": {
    "ExecuteTime": {
     "end_time": "2018-11-01T10:34:44.968638Z",
     "start_time": "2018-11-01T10:34:44.964728Z"
    }
   },
   "outputs": [
    {
     "name": "stdout",
     "output_type": "stream",
     "text": [
      "Overwriting scilab/kernel.json\n"
     ]
    }
   ],
   "source": [
    "%%file scilab/kernel.json\n",
    "{\n",
    "    \"argv\": [\"python3\",\n",
    "             \"-m\", \"scilab_kernel\",\n",
    "             \"-f\", \"{connection_file}\"],\n",
    "    \"display_name\": \"Scilab\",\n",
    "    \"language\": \"scilab\",\n",
    "    \"mimetype\": \"text/x-octave\",\n",
    "    \"name\": \"scilab\"\n",
    "}"
   ]
  },
  {
   "cell_type": "code",
   "execution_count": 36,
   "metadata": {
    "ExecuteTime": {
     "end_time": "2018-11-01T10:34:48.995463Z",
     "start_time": "2018-11-01T10:34:48.536936Z"
    }
   },
   "outputs": [
    {
     "name": "stdout",
     "output_type": "stream",
     "text": [
      "[InstallKernelSpec] Removing existing kernelspec in /usr/local/share/jupyter/kernels/scilab\r\n",
      "[InstallKernelSpec] Installed kernelspec scilab in /usr/local/share/jupyter/kernels/scilab\r\n"
     ]
    }
   ],
   "source": [
    "!sudo -H jupyter-kernelspec install scilab/"
   ]
  },
  {
   "cell_type": "code",
   "execution_count": 37,
   "metadata": {},
   "outputs": [],
   "source": [
    "!rm -rf scilab"
   ]
  },
  {
   "cell_type": "code",
   "execution_count": 38,
   "metadata": {
    "ExecuteTime": {
     "end_time": "2018-11-01T11:51:55.164672Z",
     "start_time": "2018-11-01T11:51:52.916550Z"
    },
    "scrolled": true
   },
   "outputs": [
    {
     "name": "stdout",
     "output_type": "stream",
     "text": [
      "Collecting bash-kernel\n",
      "  Downloading https://files.pythonhosted.org/packages/5e/17/5e059b2cd785f111b9b1be53ac27000dbbd66291e778f9acf59371a8c541/bash_kernel-0.7.2-py2.py3-none-any.whl\n",
      "Requirement already satisfied, skipping upgrade: pexpect>=4.0 in /usr/lib/python3/dist-packages (from bash-kernel) (4.2.1)\n",
      "Installing collected packages: bash-kernel\n",
      "Successfully installed bash-kernel-0.7.2\n"
     ]
    }
   ],
   "source": [
    "!sudo -H pip3 install --upgrade bash-kernel"
   ]
  },
  {
   "cell_type": "code",
   "execution_count": 41,
   "metadata": {},
   "outputs": [
    {
     "name": "stdout",
     "output_type": "stream",
     "text": [
      "Available kernels:\r\n",
      "  bash            /usr/local/share/jupyter/kernels/bash\r\n",
      "  c_kernel        /usr/local/share/jupyter/kernels/c_kernel\r\n",
      "  fortran         /usr/local/share/jupyter/kernels/fortran\r\n",
      "  gnuplot_spec    /usr/local/share/jupyter/kernels/gnuplot_spec\r\n",
      "  octave          /usr/local/share/jupyter/kernels/octave\r\n",
      "  python3         /usr/local/share/jupyter/kernels/python3\r\n",
      "  scilab          /usr/local/share/jupyter/kernels/scilab\r\n"
     ]
    }
   ],
   "source": [
    "# Para verificar os kernels instalados  \n",
    "! jupyter-kernelspec list"
   ]
  },
  {
   "cell_type": "code",
   "execution_count": 40,
   "metadata": {
    "ExecuteTime": {
     "end_time": "2018-11-01T11:51:58.711389Z",
     "start_time": "2018-11-01T11:51:58.035127Z"
    }
   },
   "outputs": [
    {
     "name": "stdout",
     "output_type": "stream",
     "text": [
      "Installing IPython kernel spec\r\n"
     ]
    }
   ],
   "source": [
    "!sudo -H python3 -m bash_kernel.install"
   ]
  },
  {
   "cell_type": "code",
   "execution_count": 40,
   "metadata": {
    "ExecuteTime": {
     "end_time": "2018-11-01T02:45:12.736432Z",
     "start_time": "2018-11-01T02:45:12.623839Z"
    }
   },
   "outputs": [],
   "source": [
    "!mkdir -p bash_spec"
   ]
  },
  {
   "cell_type": "code",
   "execution_count": 41,
   "metadata": {
    "ExecuteTime": {
     "end_time": "2018-11-01T02:45:15.858383Z",
     "start_time": "2018-11-01T02:45:15.851551Z"
    }
   },
   "outputs": [
    {
     "name": "stdout",
     "output_type": "stream",
     "text": [
      "Writing bash_spec/kernel.joson\n"
     ]
    }
   ],
   "source": [
    "%%file bash_spec/kernel.joson\n",
    "{\n",
    "    \"argv\": [\"/usr/bin/python3\", \n",
    "          \"-m\", \"metakernel_bash\", \n",
    "          \"-f\", \"{connection_file}\"], \n",
    "          \"display_name\": \"MetaKernel Bash\", \n",
    "          \"language\": \"bash\", \n",
    "          \"name\": \"metakernel_bash\"\n",
    "}"
   ]
  },
  {
   "cell_type": "code",
   "execution_count": 42,
   "metadata": {
    "ExecuteTime": {
     "end_time": "2018-11-01T02:45:24.545342Z",
     "start_time": "2018-11-01T02:45:24.016995Z"
    }
   },
   "outputs": [
    {
     "name": "stdout",
     "output_type": "stream",
     "text": [
      "[InstallKernelSpec] Installed kernelspec bash_spec in /usr/local/share/jupyter/kernels/bash_spec\r\n"
     ]
    }
   ],
   "source": [
    "!sudo -H jupyter-kernelspec install bash_spec/"
   ]
  },
  {
   "cell_type": "code",
   "execution_count": 43,
   "metadata": {
    "ExecuteTime": {
     "end_time": "2018-11-01T02:45:30.347174Z",
     "start_time": "2018-11-01T02:45:30.235560Z"
    }
   },
   "outputs": [],
   "source": [
    "!rm -rf bash_spec"
   ]
  },
  {
   "cell_type": "code",
   "execution_count": 44,
   "metadata": {
    "ExecuteTime": {
     "end_time": "2018-11-01T10:35:17.816372Z",
     "start_time": "2018-11-01T10:35:15.650712Z"
    }
   },
   "outputs": [
    {
     "name": "stdout",
     "output_type": "stream",
     "text": [
      "Collecting markdown-kernel\n",
      "  Downloading https://files.pythonhosted.org/packages/d1/08/9e52cbe5d8daacf41ec612286e590f3c01236e8a7e5780ca3537822e6f76/markdown_kernel-0.1-py3-none-any.whl\n",
      "Requirement already satisfied, skipping upgrade: notebook in /usr/local/lib/python3.6/dist-packages (from markdown-kernel) (6.0.1)\n",
      "Requirement already satisfied, skipping upgrade: markdown in /usr/local/lib/python3.6/dist-packages (from markdown-kernel) (3.1.1)\n",
      "Requirement already satisfied, skipping upgrade: ipython-genutils in /usr/local/lib/python3.6/dist-packages (from notebook->markdown-kernel) (0.2.0)\n",
      "Requirement already satisfied, skipping upgrade: jinja2 in /usr/local/lib/python3.6/dist-packages (from notebook->markdown-kernel) (2.10.1)\n",
      "Requirement already satisfied, skipping upgrade: nbformat in /usr/local/lib/python3.6/dist-packages (from notebook->markdown-kernel) (4.4.0)\n",
      "Requirement already satisfied, skipping upgrade: prometheus-client in /usr/local/lib/python3.6/dist-packages (from notebook->markdown-kernel) (0.7.1)\n",
      "Requirement already satisfied, skipping upgrade: traitlets>=4.2.1 in /usr/local/lib/python3.6/dist-packages (from notebook->markdown-kernel) (4.3.2)\n",
      "Requirement already satisfied, skipping upgrade: ipykernel in /usr/local/lib/python3.6/dist-packages (from notebook->markdown-kernel) (5.1.2)\n",
      "Requirement already satisfied, skipping upgrade: jupyter-core>=4.4.0 in /usr/local/lib/python3.6/dist-packages (from notebook->markdown-kernel) (4.5.0)\n",
      "Requirement already satisfied, skipping upgrade: nbconvert in /usr/local/lib/python3.6/dist-packages (from notebook->markdown-kernel) (5.6.0)\n",
      "Requirement already satisfied, skipping upgrade: terminado>=0.8.1 in /usr/local/lib/python3.6/dist-packages (from notebook->markdown-kernel) (0.8.2)\n",
      "Requirement already satisfied, skipping upgrade: Send2Trash in /usr/local/lib/python3.6/dist-packages (from notebook->markdown-kernel) (1.5.0)\n",
      "Requirement already satisfied, skipping upgrade: pyzmq>=17 in /usr/local/lib/python3.6/dist-packages (from notebook->markdown-kernel) (18.1.0)\n",
      "Requirement already satisfied, skipping upgrade: tornado>=5.0 in /usr/local/lib/python3.6/dist-packages (from notebook->markdown-kernel) (6.0.3)\n",
      "Requirement already satisfied, skipping upgrade: jupyter-client>=5.3.1 in /usr/local/lib/python3.6/dist-packages (from notebook->markdown-kernel) (5.3.1)\n",
      "Requirement already satisfied, skipping upgrade: setuptools>=36 in /usr/local/lib/python3.6/dist-packages (from markdown->markdown-kernel) (41.2.0)\n",
      "Requirement already satisfied, skipping upgrade: MarkupSafe>=0.23 in /usr/lib/python3/dist-packages (from jinja2->notebook->markdown-kernel) (1.0)\n",
      "Requirement already satisfied, skipping upgrade: jsonschema!=2.5.0,>=2.4 in /usr/local/lib/python3.6/dist-packages (from nbformat->notebook->markdown-kernel) (3.0.2)\n",
      "Requirement already satisfied, skipping upgrade: decorator in /usr/local/lib/python3.6/dist-packages (from traitlets>=4.2.1->notebook->markdown-kernel) (4.4.0)\n",
      "Requirement already satisfied, skipping upgrade: six in /usr/lib/python3/dist-packages (from traitlets>=4.2.1->notebook->markdown-kernel) (1.11.0)\n",
      "Requirement already satisfied, skipping upgrade: ipython>=5.0.0 in /usr/local/lib/python3.6/dist-packages (from ipykernel->notebook->markdown-kernel) (7.7.0)\n",
      "Requirement already satisfied, skipping upgrade: testpath in /usr/local/lib/python3.6/dist-packages (from nbconvert->notebook->markdown-kernel) (0.4.2)\n",
      "Requirement already satisfied, skipping upgrade: entrypoints>=0.2.2 in /usr/local/lib/python3.6/dist-packages (from nbconvert->notebook->markdown-kernel) (0.3)\n",
      "Requirement already satisfied, skipping upgrade: pandocfilters>=1.4.1 in /usr/local/lib/python3.6/dist-packages (from nbconvert->notebook->markdown-kernel) (1.4.2)\n",
      "Requirement already satisfied, skipping upgrade: bleach in /usr/local/lib/python3.6/dist-packages (from nbconvert->notebook->markdown-kernel) (3.1.0)\n",
      "Requirement already satisfied, skipping upgrade: pygments in /usr/local/lib/python3.6/dist-packages (from nbconvert->notebook->markdown-kernel) (2.4.2)\n",
      "Requirement already satisfied, skipping upgrade: defusedxml in /usr/local/lib/python3.6/dist-packages (from nbconvert->notebook->markdown-kernel) (0.6.0)\n",
      "Requirement already satisfied, skipping upgrade: mistune<2,>=0.8.1 in /usr/local/lib/python3.6/dist-packages (from nbconvert->notebook->markdown-kernel) (0.8.4)\n",
      "Requirement already satisfied, skipping upgrade: ptyprocess; os_name != \"nt\" in /usr/local/lib/python3.6/dist-packages (from terminado>=0.8.1->notebook->markdown-kernel) (0.6.0)\n",
      "Requirement already satisfied, skipping upgrade: python-dateutil>=2.1 in /usr/local/lib/python3.6/dist-packages (from jupyter-client>=5.3.1->notebook->markdown-kernel) (2.8.0)\n",
      "Requirement already satisfied, skipping upgrade: pyrsistent>=0.14.0 in /usr/local/lib/python3.6/dist-packages (from jsonschema!=2.5.0,>=2.4->nbformat->notebook->markdown-kernel) (0.15.4)\n",
      "Requirement already satisfied, skipping upgrade: attrs>=17.4.0 in /usr/local/lib/python3.6/dist-packages (from jsonschema!=2.5.0,>=2.4->nbformat->notebook->markdown-kernel) (19.1.0)\n",
      "Requirement already satisfied, skipping upgrade: pexpect; sys_platform != \"win32\" in /usr/lib/python3/dist-packages (from ipython>=5.0.0->ipykernel->notebook->markdown-kernel) (4.2.1)\n",
      "Requirement already satisfied, skipping upgrade: prompt-toolkit<2.1.0,>=2.0.0 in /usr/local/lib/python3.6/dist-packages (from ipython>=5.0.0->ipykernel->notebook->markdown-kernel) (2.0.9)\n",
      "Requirement already satisfied, skipping upgrade: jedi>=0.10 in /usr/local/lib/python3.6/dist-packages (from ipython>=5.0.0->ipykernel->notebook->markdown-kernel) (0.15.1)\n",
      "Requirement already satisfied, skipping upgrade: backcall in /usr/local/lib/python3.6/dist-packages (from ipython>=5.0.0->ipykernel->notebook->markdown-kernel) (0.1.0)\n",
      "Requirement already satisfied, skipping upgrade: pickleshare in /usr/local/lib/python3.6/dist-packages (from ipython>=5.0.0->ipykernel->notebook->markdown-kernel) (0.7.5)\n",
      "Requirement already satisfied, skipping upgrade: webencodings in /usr/local/lib/python3.6/dist-packages (from bleach->nbconvert->notebook->markdown-kernel) (0.5.1)\n",
      "Requirement already satisfied, skipping upgrade: wcwidth in /usr/local/lib/python3.6/dist-packages (from prompt-toolkit<2.1.0,>=2.0.0->ipython>=5.0.0->ipykernel->notebook->markdown-kernel) (0.1.7)\n",
      "Requirement already satisfied, skipping upgrade: parso>=0.5.0 in /usr/local/lib/python3.6/dist-packages (from jedi>=0.10->ipython>=5.0.0->ipykernel->notebook->markdown-kernel) (0.5.1)\n",
      "Installing collected packages: markdown-kernel\n",
      "Successfully installed markdown-kernel-0.1\n"
     ]
    }
   ],
   "source": [
    "! sudo -H pip install -U markdown-kernel"
   ]
  },
  {
   "cell_type": "code",
   "execution_count": 45,
   "metadata": {},
   "outputs": [
    {
     "name": "stdout",
     "output_type": "stream",
     "text": [
      "markdown jupyter kernel spec is installed\r\n"
     ]
    }
   ],
   "source": [
    "! sudo -H python3 -m markdown_kernel.install"
   ]
  },
  {
   "cell_type": "code",
   "execution_count": 46,
   "metadata": {
    "ExecuteTime": {
     "end_time": "2018-11-01T10:35:22.911701Z",
     "start_time": "2018-11-01T10:35:22.801734Z"
    }
   },
   "outputs": [],
   "source": [
    "!mkdir -p markdown_spec"
   ]
  },
  {
   "cell_type": "code",
   "execution_count": 47,
   "metadata": {
    "ExecuteTime": {
     "end_time": "2018-11-01T10:35:34.151049Z",
     "start_time": "2018-11-01T10:35:34.144949Z"
    }
   },
   "outputs": [
    {
     "name": "stdout",
     "output_type": "stream",
     "text": [
      "Writing markdown_spec/kernel.joson\n"
     ]
    }
   ],
   "source": [
    "%%file markdown_spec/kernel.joson\n",
    "{\n",
    "  \"argv\": [\n",
    "    \"python3\",\n",
    "    \"-m\",\n",
    "    \"markdown_kernel\",\n",
    "    \"-f\",\n",
    "    \"{connection_file}\"\n",
    "  ],\n",
    "  \"display_name\": \"Markdown\",\n",
    "  \"language\": \"markdown\"\n",
    "}"
   ]
  },
  {
   "cell_type": "code",
   "execution_count": 48,
   "metadata": {
    "ExecuteTime": {
     "end_time": "2018-11-01T10:35:40.315323Z",
     "start_time": "2018-11-01T10:35:39.866797Z"
    }
   },
   "outputs": [
    {
     "name": "stdout",
     "output_type": "stream",
     "text": [
      "[InstallKernelSpec] Installed kernelspec markdown_spec in /usr/local/share/jupyter/kernels/markdown_spec\r\n"
     ]
    }
   ],
   "source": [
    "!sudo -H jupyter-kernelspec install markdown_spec/"
   ]
  },
  {
   "cell_type": "code",
   "execution_count": 49,
   "metadata": {
    "ExecuteTime": {
     "end_time": "2018-11-01T10:35:43.816392Z",
     "start_time": "2018-11-01T10:35:43.707432Z"
    }
   },
   "outputs": [],
   "source": [
    "!rm -rf markdown_spec"
   ]
  },
  {
   "cell_type": "code",
   "execution_count": 50,
   "metadata": {
    "ExecuteTime": {
     "end_time": "2018-11-01T10:35:46.340089Z",
     "start_time": "2018-11-01T10:35:46.229355Z"
    }
   },
   "outputs": [
    {
     "name": "stdout",
     "output_type": "stream",
     "text": [
      "total 72K\r\n",
      "drwxr-xr-x 12 root root 4,0K ago 28 10:44 .\r\n",
      "drwxr-xr-x  6 root root 4,0K ago 28 09:23 ..\r\n",
      "drwxr-xr-x  2 root root 4,0K ago 28 10:43 bash\r\n",
      "drwxr-xr-x  2 root root 4,0K ago 28 10:43 bash_spec\r\n",
      "drwxr-xr-x  2 root root 4,0K ago 28 10:37 c_kernel\r\n",
      "drwxrwxr-x  2 root root 4,0K abr 10 06:49 fortran\r\n",
      "drwxr-xr-x  2 root root 4,0K ago 28 10:42 gnuplot_spec\r\n",
      "drwxr-xr-x  2 root root 4,0K ago 28 10:44 markdown\r\n",
      "drwxr-xr-x  2 root root 4,0K ago 28 10:44 markdown_spec\r\n",
      "drwxr-xr-x  2 root root 4,0K ago 28 10:42 octave\r\n",
      "drwxr-xr-x  2 root root 4,0K ago 28 08:21 python3\r\n",
      "drwxr-xr-x  2 root root 4,0K jul  2 10:08 scilab\r\n"
     ]
    }
   ],
   "source": [
    "# Para verificar liste o diretório\n",
    "! ls -alh /usr/local/share/jupyter/kernels/"
   ]
  },
  {
   "cell_type": "markdown",
   "metadata": {},
   "source": [
    "Agora é só testar. Reinicie o jupyter notebook e depois vá no menu Kernel --> Change Kernel e veja se aparece os kernels instalados? Se apareceu está tudo ok."
   ]
  },
  {
   "cell_type": "markdown",
   "metadata": {},
   "source": [
    "## Kernel do Gnuplot\n",
    "\n",
    "Ao iniciar um novo notebook vocẽ agora deve seelcionar o kernel a ser usado. No caso da selecção ter sido o do gnuplo, todas as células de código serão interpretadas como declarações para gnuplot a menos que a célula magic esteja sendo usada. Da mesma forma, cada linha é uma declaração para gnuplot a menos que seja uma linha magic. Vamos ver o que tudo isso significa.\n",
    "\n",
    "Entretanto aqui o kernel que está sendo usado é do Python 3, conforme mostra o canto superior direito da linha que contém o menu deste notebook.\n",
    "\n",
    "Pode-se fazer alguns gráficos usando o gnuplot, para isso deve-se usar as `magics` do notebook. Para carregar a extensão do gnuplot faça `%load_ext gnuplot_kernel`\n"
   ]
  },
  {
   "cell_type": "code",
   "execution_count": 51,
   "metadata": {
    "ExecuteTime": {
     "end_time": "2018-11-01T10:36:02.845012Z",
     "start_time": "2018-11-01T10:36:02.128298Z"
    }
   },
   "outputs": [],
   "source": [
    "# Esse código as magics para o gnuplot\n",
    "%load_ext gnuplot_kernel"
   ]
  },
  {
   "cell_type": "markdown",
   "metadata": {},
   "source": [
    "Agora coloque o seguinte código `%%gnuplot` no início de toda célula que contém um código do gnuplot.\n",
    "\n",
    "Primeiro, um gráfico e um cálculo simples."
   ]
  },
  {
   "cell_type": "code",
   "execution_count": 52,
   "metadata": {
    "ExecuteTime": {
     "end_time": "2018-11-01T10:36:05.827303Z",
     "start_time": "2018-11-01T10:36:05.787381Z"
    }
   },
   "outputs": [
    {
     "data": {
      "image/png": "[encoded data removed]",
      "text/plain": [
       "<IPython.core.display.Image object>"
      ]
     },
     "metadata": {},
     "output_type": "display_data"
    },
    {
     "data": {
      "text/plain": [
       "set grid\n",
       "set samples 200\n",
       "set output '/tmp/gnuplot-inline-1566999867.540213.500799014084.png'\n",
       "plot sin(x), cos(x),  exp(-x/10)*sin(x)**2\n",
       "unset output"
      ]
     },
     "metadata": {},
     "output_type": "display_data"
    }
   ],
   "source": [
    "%%gnuplot\n",
    "set grid\n",
    "set samples 200\n",
    "plot sin(x), cos(x),  exp(-x/10)*sin(x)**2"
   ]
  },
  {
   "cell_type": "code",
   "execution_count": 53,
   "metadata": {
    "ExecuteTime": {
     "end_time": "2018-11-01T10:36:16.595609Z",
     "start_time": "2018-11-01T10:36:16.555556Z"
    }
   },
   "outputs": [
    {
     "data": {
      "image/png": "[encoded data removed]",
      "text/plain": [
       "<IPython.core.display.Image object>"
      ]
     },
     "metadata": {},
     "output_type": "display_data"
    },
    {
     "data": {
      "text/plain": [
       "set parametric\n",
       "\n",
       "\tdummy variable is t for curves, u/v for surfaces\n",
       "set contour base\n",
       "set grid xtics ytics ztics\n",
       "unset key\n",
       "set output '/tmp/gnuplot-inline-1566999870.821169.30834440896.png'\n",
       "splot cos(u)*cos(v),2*sin(u)*cos(v),3*sin(v)\n",
       "unset output"
      ]
     },
     "metadata": {},
     "output_type": "display_data"
    }
   ],
   "source": [
    "%%gnuplot\n",
    "set parametric\n",
    "set contour base\n",
    "set grid xtics ytics ztics\n",
    "unset key\n",
    "splot cos(u)*cos(v),2*sin(u)*cos(v),3*sin(v)"
   ]
  },
  {
   "cell_type": "markdown",
   "metadata": {},
   "source": [
    "# Instalando o kernel do C ++ para o notebook Jupyter: Cling <a name=\"Kernel-Cpp\"></a>\n",
    "\n",
    "A seguir mostramos como instalar o [kernel do c++](http://shuvomoy.github.io/blog/programming/2016/08/04/Cpp-kernel-for-Jupyter.html) no jupyter e para isso será usado o interpretador cling.\n",
    "\n",
    "O cling é um intérpretador interativo do C++; Ele nos permite digitar e executar código C ++ dinamicamente, como Python ou Julia. Os desenvolvedores fornecem instantâneos binários para Cling em https://root.cern.ch/download/cling/. Baixe e extraia o associado à sua plataforma e sistema operacional. Considere que o nome do caminho para a pasta extraída é `/home/ubuntu_user/cling_ubuntu`. Haverá uma pasta chamada `bin`, que contém o binário Cling. Precisamos adicionar o caminho, ou seja, `/home/ubuntu_user/cling_ubuntu/bin` no caminho (*PATH*). Então, abra um terminal e digite o seguinte.\n",
    "\n",
    "\n",
    "```bassh\n",
    "export PATH=/home/ubuntu_user/cling_ubuntu/bin:$PATH\n",
    "```\n",
    "\n",
    "\n",
    "Agora precisamos instalar o kernel Cling para o Jupyter. Para fazer isso, adicione o caminho para o kernel do Jupyter chamado `/home/ubuntu_user/cling_ubuntu/share/cling/Jupyter/kernel`. No terminal, alteramos o diretório para ele e instalamos o kernel da seguinte forma.\n",
    "\n",
    "```bash\n",
    "cd /cling-install-prefix/share/cling/Jupyter/kernel\n",
    "\n",
    "sudo -H pip3 install -e .\n",
    "```\n",
    "\n",
    "Agora, para finalizar devemos registrar para o kernelspec:\n",
    "\n",
    "sudo -H jupyter-kernelspec install cling.\n",
    "\n",
    "Se você ainda não o fez, instale um compilador C++ como g++ e para isso use o terminal ou synaptic.\n",
    "\n",
    "Certo, já terminamos. Para iniciar um notebook jupyter com kernel C++, basta digitar o seguinte no terminal:\n",
    "\n",
    "> jupyter-notebook\n",
    "\n",
    "Uma página da Web denominada Início será aberta. No canto superior direito, teremos um botão intitulado novo, clique nele e selecione C ++."
   ]
  },
  {
   "cell_type": "markdown",
   "metadata": {},
   "source": [
    "## Exportando e Convertendo Notebooks\n",
    "\n",
    "No Jupyter, é possível converter um arquivo de documentos do notebook `.ipynb` em vários formatos estáticos através da ferramenta `nbconvert`. Atualmente, nbconvert é uma ferramenta de linha de comando, executado como um script usando Jupyter."
   ]
  },
  {
   "cell_type": "code",
   "execution_count": null,
   "metadata": {},
   "outputs": [],
   "source": [
    "!jupyter nbconvert --to html Aula_01_IPython_e_Jupyter.ipynb"
   ]
  },
  {
   "cell_type": "markdown",
   "metadata": {},
   "source": [
    "Atualmente, `nbconvert` suporta HTML (padrão), LaTeX, Markdown, reStructuredText, Python e Slides HTML5 para apresentações. Alguns tipos podem ser pós-processados, como LaTeX para PDF (isso requer [Pandoc](http://johnmacfarlane.net/pandoc/) para ser instalado, no entanto)."
   ]
  },
  {
   "cell_type": "code",
   "execution_count": null,
   "metadata": {},
   "outputs": [],
   "source": [
    "!jupyter nbconvert --to pdf Aula_01_IPython_e_Jupyter.ipynb"
   ]
  },
  {
   "cell_type": "code",
   "execution_count": null,
   "metadata": {},
   "outputs": [],
   "source": [
    "!evince Aula_01_IPython_e_Jupyter.pdf"
   ]
  },
  {
   "cell_type": "markdown",
   "metadata": {},
   "source": [
    "Um serviço on-line muito útil é o [IPython Notebook Viewer](http://nbviewer.ipython.org) que permite que você exiba seu notebook como uma página HTML estática, que é útil para compartilhar com outras pessoas:"
   ]
  },
  {
   "cell_type": "code",
   "execution_count": null,
   "metadata": {},
   "outputs": [],
   "source": [
    "%%html\n",
    "<iframe src=http://nbviewer.ipython.org/2352771 width=700 height=300></iframe>"
   ]
  },
  {
   "cell_type": "markdown",
   "metadata": {},
   "source": [
    "Além disso, o GitHub suporta [renderização de Notebooks Jupyter](https://github.com/fonnesbeck/Bios8366/blob/master/notebooks/Section1_2-Programming-with-Python.ipynb) armazenado em seus repositórios."
   ]
  },
  {
   "cell_type": "markdown",
   "metadata": {},
   "source": [
    "### Coverter código python em notebook\n",
    "\n",
    "Uma API IPythonpossui funções para ler e escrever arquivo Notebooks. Você deve usar esta API e não criar JSON diretamente. Por exemplo, o seguinte fragmento de código converte um script test.py em um notebook test.ipynb.\n",
    "\n",
    "```python3\n",
    "import IPython.nbformat.current as nbf\n",
    "nb = nbf.read(open('test.py', 'r'), 'py')\n",
    "nbf.write(nb, open('test.ipynb', 'w'), 'ipynb')\n",
    "```\n",
    "\n",
    "veja maiores detalhes em [Converting to (not from) ipython Notebook format](https://stackoverflow.com/questions/23292242/converting-to-not-from-ipython-notebook-format)\n",
    "\n",
    "Aqui temos um código completa para fazer isso:"
   ]
  },
  {
   "cell_type": "code",
   "execution_count": null,
   "metadata": {},
   "outputs": [],
   "source": [
    "import nbformat\n",
    "from nbformat.v4 import new_code_cell,new_notebook\n",
    "\n",
    "import codecs\n",
    "\n",
    "sourceFile = \"codigo-fonte.py\"       # <<<< Código a ser convertido em ipynb\n",
    "destFile   = \"codigo-fonte.ipynb\"    # <<<< Código convertido em ipynb\n",
    "\n",
    "\n",
    "def parsePy(fn):\n",
    "    \"\"\" Generator that parses a .py file exported from a IPython notebook and\n",
    "extracts code cells (whatever is between occurrences of \"In[*]:\").\n",
    "Returns a string containing one or more lines\n",
    "\"\"\"\n",
    "    with open(fn,\"r\") as f:\n",
    "        lines = []\n",
    "        for l in f:\n",
    "            l1 = l.strip()\n",
    "            if l1.startswith('# In[') and l1.endswith(']:') and lines:\n",
    "                yield \"\".join(lines)\n",
    "                lines = []\n",
    "                continue\n",
    "            lines.append(l)\n",
    "        if lines:\n",
    "            yield \"\".join(lines)\n",
    "\n",
    "# Create the code cells by parsing the file in input\n",
    "cells = []\n",
    "for c in parsePy(sourceFile):\n",
    "    cells.append(new_code_cell(source=c))\n",
    "\n",
    "# This creates a V4 Notebook with the code cells extracted above\n",
    "nb0 = new_notebook(cells=cells,\n",
    "                   metadata={'language': 'python',})\n",
    "\n",
    "with codecs.open(destFile, encoding='utf-8', mode='w') as f:\n",
    "    nbformat.write(nb0, f, 4)"
   ]
  },
  {
   "cell_type": "markdown",
   "metadata": {},
   "source": [
    "O código abaixo irá converter todos os arquivos .py em notebooks. Escolha o diretório e excute o código. "
   ]
  },
  {
   "cell_type": "code",
   "execution_count": null,
   "metadata": {},
   "outputs": [],
   "source": [
    "import nbformat\n",
    "from nbformat.v4 import new_code_cell,new_notebook\n",
    "import codecs\n",
    "import os\n",
    "\n",
    "\n",
    "def parsePy(fn):\n",
    "    \"\"\" Generator that parses a .py file exported from a IPython notebook and\n",
    "extracts code cells (whatever is between occurrences of \"In[*]:\").\n",
    "Returns a string containing one or more lines\n",
    "\"\"\"\n",
    "    with open(fn,\"r\") as f:\n",
    "        lines = []\n",
    "        for l in f:\n",
    "            l1 = l.strip()\n",
    "            if l1.startswith('# In[') and l1.endswith(']:') and lines:\n",
    "                yield \"\".join(lines)\n",
    "                lines = []\n",
    "                continue\n",
    "            lines.append(l)\n",
    "        if lines:\n",
    "            yield \"\".join(lines)\n",
    "            \n",
    "def genNb(sourceFile,destFile):\n",
    "    # Create the code cells by parsing the file in input\n",
    "    cells = []\n",
    "    for c in parsePy(sourceFile):\n",
    "        cells.append(new_code_cell(source=c))\n",
    "\n",
    "    # This creates a V4 Notebook with the code cells extracted above\n",
    "    nb0 = new_notebook(cells=cells,\n",
    "                   metadata={'language': 'python',})\n",
    "\n",
    "    with codecs.open(destFile, encoding='utf-8', mode='w') as f:\n",
    "        nbformat.write(nb0, f, 4)\n",
    "\n",
    "\n",
    "dir='.'  # quando vazio significa diretório local\n",
    "\n",
    "# Aqui encontramos todos os arquivo python no diretório \n",
    "arq_python = [x for x in os.listdir(dir) if x.endswith(\".py\")]\n",
    "\n",
    "for x in arq_python :\n",
    "    sourcefile=x\n",
    "    destfile=x.split('.')[0]+'.ipynb'\n",
    "    print(\"Source= \", sourcefile, \" Destino = \", destfile)\n",
    "    genNb(sourcefile,destfile)\n",
    "\n",
    "# Para verificar o resultado\n",
    "arq_conv = [x for x in os.listdir(dir) if x.endswith(\".py\") or x.endswith(\".ipynb\")]\n",
    "print(arq_conv)"
   ]
  },
  {
   "cell_type": "markdown",
   "metadata": {},
   "source": [
    "## IPython paralelo\n",
    "\n",
    "Em um nível alto, há três componentes básicos para paralelizar IPython:\n",
    "\n",
    "* Máquina(s) - os processos remotos ou distribuídos onde seu código é executado.\n",
    "* Cliente - sua interface para executar o código em motores.\n",
    "* Controlador - a coleção de processos que coordenam Motores e Clientes.\n",
    "\n",
    "Esses componentes vivem no pacote `IPython.parallel`, que foi lançado em seu próprio modelo que requer instalação.\n",
    "\n",
    "### Computação Paralela e Iterativa Com o IPython\n",
    "\n",
    "ipyparallel é o novo nome do IPython.parallel. ipyparallel é um pacote Python e uma  coleção de scripts CLI para controlar clusters para Jupyter. \n",
    "\n",
    "ipyparallel contém os seguintes scripts CLI:\n",
    "\n",
    "* ipcluster - inicia/para um cluster\n",
    "* ipcontroller - inicia um agendador\n",
    "* ipengine - inicia um motor\n",
    "\n",
    "\n",
    "### Instalação\n",
    "\n",
    "Para instalar o ipyparallel digite na linha de comando:\n",
    "\n",
    "```bash\n",
    "    sudo -H pip3 install -U ipyparallel\n",
    "```\n",
    "ou via `conda`:\n",
    "\n",
    "```bash\n",
    "sudo -H conda install ipyparallel\n",
    "```\n",
    "\n",
    "Para habilitar a tab do `IPython Clusters` no Jupyter Notebook:\n",
    "\n",
    "```bash\n",
    "sudo -H ipcluster nbextension enable\n",
    "```\n",
    "Para desabilitar ela novamente:\n",
    "\n",
    "```bash\n",
    "sudo -H ipcluster nbextension disable\n",
    "```\n",
    "\n",
    "Para instalar a guia IPython Clusters no Jupyter Notebook, adicione isso ao seu `jupyter_notebook_config.py`:\n",
    "\n",
    "```python\n",
    "c.NotebookApp.server_extensions.append('ipyparallel.nbextension')\n",
    "```\n",
    "\n",
    "Este arquivo reside no subdiretório `~/.jupyter` do seu diretório pessoal e deve ser criado se ele ainda não existir.\n",
    "\n",
    "\n",
    "Veja o [\"documentation on configuring the notebook server\"](https://jupyter-notebook.readthedocs.io/en/latest/public_server.html) para achar seu arquivo de configuração ou sua configuração inicial `jupyter_notebook_config.py`.\n",
    "\n",
    "\n",
    "### Instalando o JupyterHub \n",
    "\n",
    "Para instalar o JupyterHub para todos os usuários, digite:\n",
    "\n",
    "```bash\n",
    "sudo -H jupyter nbextension install --sys-prefix --py ipyparallel\n",
    "sudo -H jupyter nbextension enable --sys-prefix --py ipyparallel\n",
    "sudo -H jupyter serverextension enable --sys-prefix --py ipyparallel\n",
    "```\n",
    "\n",
    "## Rodando\n",
    "\n",
    "Inicia um cluster:\n",
    "\n",
    "```bash\n",
    "ipcluster start\n",
    "```\n",
    "\n",
    "Usado ele a partir do Python:\n",
    "\n",
    "```python\n",
    "import os\n",
    "import ipyparallel as ipp\n",
    "rc = ipp.Client()\n",
    "ar = rc[:].apply_async(os.getpid)\n",
    "pid_map = ar.get_dict()\n",
    "```\n",
    "\n",
    "## Documentação\n",
    "\n",
    "Para maiores detalhes consulte o manual [\"Using IPython for parallel computing\"](http://ipyparallel.readthedocs.io/en/latest/index.html)."
   ]
  },
  {
   "cell_type": "markdown",
   "metadata": {},
   "source": [
    "Antes de executar a próxima célula, certifique-se de ter iniciado o cluster pela primeira vez, você pode usar a guia [clusters no painel](/#tab2) para fazer isso."
   ]
  },
  {
   "cell_type": "code",
   "execution_count": null,
   "metadata": {},
   "outputs": [],
   "source": [
    "from ipyparallel import Client\n",
    "client = Client()\n",
    "dv = client.direct_view()"
   ]
  },
  {
   "cell_type": "code",
   "execution_count": null,
   "metadata": {},
   "outputs": [],
   "source": [
    "import os\n",
    "import ipyparallel as ipp\n",
    "rc = ipp.Client()\n",
    "ar = rc[:].apply_async(os.getpid)\n",
    "pid_map = ar.get_dict()"
   ]
  },
  {
   "cell_type": "code",
   "execution_count": null,
   "metadata": {},
   "outputs": [],
   "source": [
    "len(dv)"
   ]
  },
  {
   "cell_type": "code",
   "execution_count": null,
   "metadata": {},
   "outputs": [],
   "source": [
    "def where_am_i():\n",
    "    import os\n",
    "    import socket\n",
    "    \n",
    "    return \"No processo com pid {0} no nó: '{1}'\".format(\n",
    "        os.getpid(), socket.gethostname())"
   ]
  },
  {
   "cell_type": "code",
   "execution_count": null,
   "metadata": {},
   "outputs": [],
   "source": [
    "where_am_i_direct_results = dv.apply(where_am_i)\n",
    "where_am_i_direct_results.get()"
   ]
  },
  {
   "cell_type": "code",
   "execution_count": null,
   "metadata": {},
   "outputs": [],
   "source": [
    "for x in range(1,10):\n",
    "    print(\"Ola \")"
   ]
  },
  {
   "cell_type": "code",
   "execution_count": null,
   "metadata": {},
   "outputs": [],
   "source": []
  }
 ],
 "metadata": {
  "anaconda-cloud": {},
  "finalized": {
   "timestamp": 1566999907145,
   "trusted": false
  },
  "jupytext": {},
  "kernelspec": {
   "display_name": "Python 3",
   "language": "python",
   "name": "python3"
  },
  "language_info": {
   "codemirror_mode": {
    "name": "ipython",
    "version": 3
   },
   "file_extension": ".py",
   "mimetype": "text/x-python",
   "name": "python",
   "nbconvert_exporter": "python",
   "pygments_lexer": "ipython3",
   "version": "3.6.9"
  },
  "latex_envs": {
   "LaTeX_envs_menu_present": true,
   "autoclose": false,
   "autocomplete": true,
   "bibliofile": "biblio.bib",
   "cite_by": "apalike",
   "current_citInitial": 1,
   "eqLabelWithNumbers": true,
   "eqNumInitial": 1,
   "hotkeys": {
    "equation": "Ctrl-E",
    "itemize": "Ctrl-I"
   },
   "labels_anchors": false,
   "latex_user_defs": false,
   "report_style_numbering": false,
   "user_envs_cfg": false
  },
  "nav_menu": {},
  "nbTranslate": {
   "displayLangs": [
    "pt",
    "en"
   ],
   "hotkey": "alt-t",
   "langInMainMenu": true,
   "sourceLang": "en",
   "targetLang": "pt",
   "useGoogleTranslate": true
  },
  "toc": {
   "base_numbering": 1,
   "nav_menu": {
    "height": "545.994px",
    "width": "626.193px"
   },
   "number_sections": false,
   "sideBar": false,
   "skip_h1_title": false,
   "title_cell": "Table of Contents",
   "title_sidebar": "Contents",
   "toc_cell": true,
   "toc_position": {
    "height": "467px",
    "left": "937px",
    "top": "135.7px",
    "width": "303.2px"
   },
   "toc_section_display": true,
   "toc_window_display": false
  },
  "varInspector": {
   "cols": {
    "lenName": 16,
    "lenType": 16,
    "lenVar": 40
   },
   "kernels_config": {
    "python": {
     "delete_cmd_postfix": "",
     "delete_cmd_prefix": "del ",
     "library": "var_list.py",
     "varRefreshCmd": "print(var_dic_list())"
    },
    "r": {
     "delete_cmd_postfix": ") ",
     "delete_cmd_prefix": "rm(",
     "library": "var_list.r",
     "varRefreshCmd": "cat(var_dic_list()) "
    }
   },
   "types_to_exclude": [
    "module",
    "function",
    "builtin_function_or_method",
    "instance",
    "_Feature"
   ],
   "window_display": false
  }
 },
 "nbformat": 4,
 "nbformat_minor": 2
}
